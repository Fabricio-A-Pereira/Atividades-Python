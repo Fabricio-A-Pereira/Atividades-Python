{
  "nbformat": 4,
  "nbformat_minor": 0,
  "metadata": {
    "colab": {
      "name": "Parte 1 - Curso USP.ipynb",
      "provenance": [],
      "collapsed_sections": [
        "vOcPP3BkDj9w",
        "mgNGltNwEOKh",
        "_q2cae59EWM3"
      ],
      "toc_visible": true,
      "authorship_tag": "ABX9TyN8nfrQScxWO1fIuCdCVA/g",
      "include_colab_link": true
    },
    "kernelspec": {
      "name": "python3",
      "display_name": "Python 3"
    }
  },
  "cells": [
    {
      "cell_type": "markdown",
      "metadata": {
        "id": "view-in-github",
        "colab_type": "text"
      },
      "source": [
        "<a href=\"https://colab.research.google.com/github/Fabricio-A-Pereira/Atividades-Python/blob/main/Parte_1_Curso_USP.ipynb\" target=\"_parent\"><img src=\"https://colab.research.google.com/assets/colab-badge.svg\" alt=\"Open In Colab\"/></a>"
      ]
    },
    {
      "cell_type": "markdown",
      "metadata": {
        "id": "vOcPP3BkDj9w"
      },
      "source": [
        "# Operadores Matemáticos\n",
        "\n",
        "---\n",
        "\n"
      ]
    },
    {
      "cell_type": "markdown",
      "metadata": {
        "id": "NHyFmf_797m9"
      },
      "source": [
        "###Operadores Matemáticos"
      ]
    },
    {
      "cell_type": "code",
      "metadata": {
        "id": "nr8RDKpYLyMv",
        "colab": {
          "base_uri": "https://localhost:8080/"
        },
        "outputId": "412776e9-5322-4049-f311-cfcddc04520b"
      },
      "source": [
        "a = 10\n",
        "b = 3\n",
        "\n",
        "# Soma\n",
        "print(\"Soma: \", a + b)\n",
        "\n",
        "# Subtração\n",
        "print(\"Subtração: \", a - b)\n",
        "\n",
        "# Multiplicação\n",
        "print(\"Multiplicação: \", a * b)\n",
        "\n",
        "# Divisão / Divisão Inteira\n",
        "print(\"Divisão: \", a / b)\n",
        "print(\"Divisão Inteira: \", a // b)\n",
        "\n",
        "# Potência\n",
        "print(\"Potência: \", a ** b)\n",
        "\n",
        "# Resto da Divisão\n",
        "print(\"Resto da Divisão: \", a % b)"
      ],
      "execution_count": null,
      "outputs": [
        {
          "output_type": "stream",
          "text": [
            "Soma:  13\n",
            "Subtração:  7\n",
            "Multiplicação:  30\n",
            "Divisão:  3.3333333333333335\n",
            "Divisão Inteira:  3\n",
            "Potência:  1000\n",
            "Resto da Divisão:  1\n"
          ],
          "name": "stdout"
        }
      ]
    },
    {
      "cell_type": "markdown",
      "metadata": {
        "id": "OKkKF3_Z9_YS"
      },
      "source": [
        "###Operadores Lógicos e Comparadores"
      ]
    },
    {
      "cell_type": "code",
      "metadata": {
        "id": "M6RAU2dTDhfJ"
      },
      "source": [
        "a = 10\n",
        "b = 20\n",
        "c = 5\n",
        "\n",
        "# Igual / Maior / Menor\n",
        "print(\"\\nA é igual a B: \", a == b)\n",
        "print(\"A é maior que B: \",a >= b)\n",
        "print(\"A é menor que B: \", a <= b)\n",
        "\n",
        "print(\"\\nA é igual a B e A é menor que C: \", a == b and a < c)\n",
        "print(\"B é maior a A e B é igual que C: \", b > a and b == c)\n",
        "print(\"A é menor a B e B é maior que C: \", a < b and b > c)"
      ],
      "execution_count": null,
      "outputs": []
    },
    {
      "cell_type": "markdown",
      "metadata": {
        "id": "mgNGltNwEOKh"
      },
      "source": [
        "# Tipos de Dados\n",
        "\n",
        "---\n",
        "\n"
      ]
    },
    {
      "cell_type": "markdown",
      "metadata": {
        "id": "7TNwDCzp-IVc"
      },
      "source": [
        "###Tipos e Conversão de Variáveis"
      ]
    },
    {
      "cell_type": "code",
      "metadata": {
        "id": "a6nyHcpHMVrp"
      },
      "source": [
        "# Tipos de Variáveis\n",
        "print(type(10))\n",
        "print(type(1.2))\n",
        "print(type(\"Olá\"))\n",
        "\n",
        "# Conversão de Variável\n",
        "a = 25.5\n",
        "b = int(a)\n",
        "\n",
        "print()\n",
        "print(a)\n",
        "print(b)"
      ],
      "execution_count": null,
      "outputs": []
    },
    {
      "cell_type": "markdown",
      "metadata": {
        "id": "w9M8QHwR-Oat"
      },
      "source": [
        "### Contagem de Caractéres"
      ]
    },
    {
      "cell_type": "code",
      "metadata": {
        "id": "beC5NEDOF7j2"
      },
      "source": [
        "a = \"Fabricio\"\n",
        "b = 3.14159\n",
        "\n",
        "print()\n",
        "print(len(a))\n",
        "      # não pode usar o \"len\" para float ou int\n",
        "      # tem que converter\n",
        "\n",
        "b = str(b)\n",
        "print(len(b))"
      ],
      "execution_count": null,
      "outputs": []
    },
    {
      "cell_type": "markdown",
      "metadata": {
        "id": "_q2cae59EWM3"
      },
      "source": [
        "# Entrada de Dados\n",
        "\n",
        "---\n",
        "\n"
      ]
    },
    {
      "cell_type": "markdown",
      "metadata": {
        "id": "89wzMnLt_IVV"
      },
      "source": [
        "###Exemplos"
      ]
    },
    {
      "cell_type": "markdown",
      "metadata": {
        "id": "CnyZNPkk-VLq"
      },
      "source": [
        "######Conversão Celsius / Fahrenheint"
      ]
    },
    {
      "cell_type": "code",
      "metadata": {
        "id": "VAyRYz3vExzp"
      },
      "source": [
        "tempFah = input(\"\\nDigite uma temperatura em Fahrenheit: \")\n",
        "tempFah = float(tempFah)\n",
        "      # pode converter direto na linha do input\n",
        "tempCel = (tempFah - 32) * 5 / 9\n",
        "\n",
        "print(\"A temperatura em Celsius é:\", tempCel)"
      ],
      "execution_count": null,
      "outputs": []
    },
    {
      "cell_type": "markdown",
      "metadata": {
        "id": "2724areE-Zuu"
      },
      "source": [
        "######Nome e Idade"
      ]
    },
    {
      "cell_type": "code",
      "metadata": {
        "id": "LgTk7p99F-dl"
      },
      "source": [
        "nome = input(\"\\nNome: \")\n",
        "idade = int(input(\"Idade: \"))\n",
        "\n",
        "print(\"Seu nome é\", nome, \"e você tem\", idade, \"anos.\")"
      ],
      "execution_count": null,
      "outputs": []
    },
    {
      "cell_type": "markdown",
      "metadata": {
        "id": "IUSMMICI-eyl"
      },
      "source": [
        "######Conversão Segundos"
      ]
    },
    {
      "cell_type": "code",
      "metadata": {
        "id": "V3kjl4HDGAQQ"
      },
      "source": [
        "segundos_str = input(\"\\nInsira a quantidade de segundos que deseja converter: \")\n",
        "total_segs = int(segundos_str)\n",
        "\n",
        "horas = total_segs // 3600\n",
        "dias = horas // 24\n",
        "horas_total = horas % 24\n",
        "segs_restantes = total_segs % 3600\n",
        "minutos = segs_restantes // 60\n",
        "segs_restantes_final = segs_restantes % 60\n",
        "\n",
        "print(dias, \"dias,\", horas_total, \"horas,\", minutos, \"minutos e\", segs_restantes_final, \"segundos\")"
      ],
      "execution_count": null,
      "outputs": []
    },
    {
      "cell_type": "markdown",
      "metadata": {
        "id": "pADC3zJ--z0m"
      },
      "source": [
        "###### Área e Perimetro de um Quadrado"
      ]
    },
    {
      "cell_type": "code",
      "metadata": {
        "id": "MeP8pNYxGRlc"
      },
      "source": [
        "lado = int(input(\"Digite o valor de um lado do quadrado: \"))\n",
        "\n",
        "area = lado * lado\n",
        "perimetro = lado * 4 # coloquei x4 porque é um quadrado, se fosse outra forma, seria outra fórmula\n",
        "\n",
        "print(\"Lado:\", lado)\n",
        "print(\"Área:\", area)\n",
        "print(\"Perimetro:\", perimetro)"
      ],
      "execution_count": null,
      "outputs": []
    },
    {
      "cell_type": "markdown",
      "metadata": {
        "id": "ivVaqkYg_N96"
      },
      "source": [
        "###### Média Aritmética das Notas"
      ]
    },
    {
      "cell_type": "code",
      "metadata": {
        "id": "JDaZZtODIHAz"
      },
      "source": [
        "nota1 = int(input(\"Digite a nota 1: \"))\n",
        "nota2 = int(input(\"Digite a nota 2: \"))\n",
        "nota3 = int(input(\"Digite a nota 3: \"))\n",
        "nota4 = int(input(\"Digite a nota 4: \"))\n",
        "\n",
        "media = (nota1 + nota2 + nota3 + nota4) / 4\n",
        "\n",
        "print(\"A médias das notas digitadas é:\", media)"
      ],
      "execution_count": null,
      "outputs": []
    },
    {
      "cell_type": "markdown",
      "metadata": {
        "id": "OKhRmwip_RAd"
      },
      "source": [
        "###### Fatura de Pagamento"
      ]
    },
    {
      "cell_type": "code",
      "metadata": {
        "id": "loKS41KhW98D"
      },
      "source": [
        "nome = input(\"Digite seu nome: \")\n",
        "dia_vencimento = int(input(\"Qual o dia do vencimento: \"))\n",
        "mes_vencimento = input(\"Qual mês de vencimento: \")\n",
        "valor = input(\"QUal o valor: \")\n",
        "\n",
        "print(\"\\nOlá,\", nome)\n",
        "print(\"Sua fatura com vencimento em\", dia_vencimento, \"de\", mes_vencimento, \" no valor de R$\", valor, \"está fechada.\")"
      ],
      "execution_count": null,
      "outputs": []
    },
    {
      "cell_type": "markdown",
      "metadata": {
        "id": "xroj7_TH_TZT"
      },
      "source": [
        "###### Dígito das Dezenas"
      ]
    },
    {
      "cell_type": "code",
      "metadata": {
        "id": "RVndxYYiZlc1"
      },
      "source": [
        "num = int(input(\"Digite um número: \"))\n",
        "\n",
        "dezena = num // 10 # faz a divisão sem contar o resto\n",
        "\n",
        "while dezena >= 10:\n",
        "  dezena = dezena % 10\n",
        "\n",
        "print(\"O número da dezena é:\", dezena)"
      ],
      "execution_count": null,
      "outputs": []
    },
    {
      "cell_type": "markdown",
      "metadata": {
        "id": "B7ywU2DZhC9_"
      },
      "source": [
        "# Expressões Booleanas \n",
        "Comparadores / Condicionais\n",
        "\n",
        "---\n",
        "\n"
      ]
    },
    {
      "cell_type": "markdown",
      "metadata": {
        "id": "-QfaaDdpAE1Z"
      },
      "source": [
        "###Valores Booleanos (true / false) e Comparadores (and / or / not)"
      ]
    },
    {
      "cell_type": "code",
      "metadata": {
        "id": "sL2EO9jIhaZL"
      },
      "source": [
        "# Teste\n",
        "print(1 < 2)\n",
        "print(5 > 3 and 1 > 10)\n",
        "print(5 > 3 or 1 > 10)\n",
        "print(not 1 < 2) # se o inverso for verdade, é true\n",
        "print(\"\")\n",
        "\n",
        "print(type(True))\n",
        "print(type(False))\n",
        "print(\"\")\n",
        "\n",
        "# Exemplos\n",
        "sol = True\n",
        "feriado = False\n",
        "vouParaPraia = sol and feriado\n",
        "print(vouParaPraia)\n",
        "\n",
        "paitrocinio = False\n",
        "promocao = True\n",
        "vouParaShow = paitrocinio or promocao\n",
        "print(vouParaShow)\n",
        "\n",
        "print(\"\")\n",
        "\n",
        "y = 50\n",
        "x = 10\n",
        "((x > 0) and (not y == 50)) or (x + y == 150)\n",
        "  # ordem de execução, ele executa primeiro o \"not\", depois o \"and\" e depois o \"or\""
      ],
      "execution_count": null,
      "outputs": []
    },
    {
      "cell_type": "markdown",
      "metadata": {
        "id": "j2G0s1Gm_-1i"
      },
      "source": [
        "###Execução Condicional"
      ]
    },
    {
      "cell_type": "code",
      "metadata": {
        "id": "Kao2OsPNDvWN"
      },
      "source": [
        "# Teste\n",
        "temperatura = 102\n",
        "\n",
        "if temperatura > 100:\n",
        "  aguaFerve = True\n",
        "  evaporacao = \"muito rápido\"\n",
        "\n",
        "print(aguaFerve)\n",
        "print(evaporacao)\n",
        "print(\"\")\n",
        "\n",
        "# Exemplo\n",
        "tempoDeJogo = int(input(\"Quanto tempo temos de jogo: \"))\n",
        "\n",
        "if tempoDeJogo <= 90:\n",
        "  print(\"Ainda tem jogo pela frente!\")\n",
        "  print(\"Que bom, adoro futebol!\")\n",
        "else:\n",
        "  print(\"Putz, tá acabando o jogo...\")"
      ],
      "execution_count": null,
      "outputs": []
    },
    {
      "cell_type": "markdown",
      "metadata": {
        "id": "J4faXGC6_5DK"
      },
      "source": [
        "###Desafio - Báskhara"
      ]
    },
    {
      "cell_type": "code",
      "metadata": {
        "id": "vh0gNCRuFx1j"
      },
      "source": [
        "import math # importando a biblioteca\n",
        "\n",
        "a = int(input(\"Digite o valor de A: \"))\n",
        "b = int(input(\"Digite o valor de B: \"))\n",
        "c = int(input(\"Digite o valor de C: \"))\n",
        "\n",
        "delta = (b ** 2) - 4 * a * c\n",
        "if delta > 0:\n",
        "  x1 = (- b + math.sqrt(delta)) / (2 * a)\n",
        "  x2 = (- b - math.sqrt(delta)) / (2 * a)\n",
        "\n",
        "  print(\"\\nResultado\")\n",
        "  print(\"A:\", a, \"\\nB:\", b, \"\\nC:\", c)\n",
        "  print(\"Delta:\", delta)\n",
        "  print(\"Raíz 1:\", x1, \"\\nRaíz 2:\", x2)\n",
        "elif delta == 0:\n",
        "  x1 = (- b + math.sqrt(delta)) / (2 * a)\n",
        "\n",
        "  print(\"\\n- Resultado:\")\n",
        "  print(\"A:\", a, \"\\nB:\", b, \"\\nC:\", c)\n",
        "  print(\"Delta:\", delta)\n",
        "  print(\"Raíz 1:\", x1)\n",
        "  print(\"\\nNa equação onde o delta é igual à 0, as raízes são iguais ou existe apenas uma.\")\n",
        "else:\n",
        "  print(\"Com o delta negativo, não tem como realizar a operação.\")"
      ],
      "execution_count": null,
      "outputs": []
    },
    {
      "cell_type": "markdown",
      "metadata": {
        "id": "lsFFXESx_gwG"
      },
      "source": [
        "###Exercícios"
      ]
    },
    {
      "cell_type": "markdown",
      "metadata": {
        "id": "ieQfMH-K_j1I"
      },
      "source": [
        "######Par ou Ímpar"
      ]
    },
    {
      "cell_type": "code",
      "metadata": {
        "colab": {
          "base_uri": "https://localhost:8080/"
        },
        "id": "jVGs0QDWMPHn",
        "outputId": "e5c63951-72f3-48b2-9588-233f84ee3b12"
      },
      "source": [
        "num = int(input(\"Digite um número: \"))\n",
        "\n",
        "if num % 2 == 0:\n",
        "  print(\"O número digitado é par!\")\n",
        "else:\n",
        "  print(\"O número digitado é ímpar!\")"
      ],
      "execution_count": null,
      "outputs": [
        {
          "output_type": "stream",
          "text": [
            "Digite um número: 3\n",
            "O número digitado é impar!\n"
          ],
          "name": "stdout"
        }
      ]
    },
    {
      "cell_type": "markdown",
      "metadata": {
        "id": "yn3LpHI2_oFG"
      },
      "source": [
        "######FizzBuzz Parcial - Parte 1"
      ]
    },
    {
      "cell_type": "code",
      "metadata": {
        "colab": {
          "base_uri": "https://localhost:8080/"
        },
        "id": "N49a99nmMTuC",
        "outputId": "9f1c8ebc-ad22-4009-8b35-a30f00130c15"
      },
      "source": [
        "num = int(input(\"Digite um número: \"))\n",
        "\n",
        "if num % 3 == 0:\n",
        "  print(\"**FIZZ**\")\n",
        "else:\n",
        "  print(num)"
      ],
      "execution_count": null,
      "outputs": [
        {
          "output_type": "stream",
          "text": [
            "Digite um número: 9\n",
            "**FIZZ**\n"
          ],
          "name": "stdout"
        }
      ]
    },
    {
      "cell_type": "markdown",
      "metadata": {
        "id": "qEH8sxfb_u4m"
      },
      "source": [
        "######FizzBuzz Parcial - Parte 2"
      ]
    },
    {
      "cell_type": "code",
      "metadata": {
        "colab": {
          "base_uri": "https://localhost:8080/"
        },
        "id": "yXBjwvnFMbTN",
        "outputId": "f7471c2c-6402-4c7f-a876-9b2cdfffef39"
      },
      "source": [
        "num = int(input(\"Digite um número: \"))\n",
        "\n",
        "if num % 5 == 0:\n",
        "  print(\"**BUZZ**\")\n",
        "else:\n",
        "  print(num)"
      ],
      "execution_count": null,
      "outputs": [
        {
          "output_type": "stream",
          "text": [
            "Digite um número: 100\n",
            "**FIZZ**\n"
          ],
          "name": "stdout"
        }
      ]
    },
    {
      "cell_type": "markdown",
      "metadata": {
        "id": "zsE-2baj_w8g"
      },
      "source": [
        "######FizzBuzz Parcial - Parte 3"
      ]
    },
    {
      "cell_type": "code",
      "metadata": {
        "colab": {
          "base_uri": "https://localhost:8080/"
        },
        "id": "Wrt9o5XpMf7s",
        "outputId": "bf68f93e-38b5-4bc1-db55-a44840b1c945"
      },
      "source": [
        "num = int(input(\"Digite um número: \"))\n",
        "\n",
        "if (num % 3 == 0) and (num % 5 == 0):\n",
        "  print(\"**FIZZBUZZ**\")\n",
        "else:\n",
        "  print(num)"
      ],
      "execution_count": null,
      "outputs": [
        {
          "output_type": "stream",
          "text": [
            "Digite um número: 28\n",
            "28\n"
          ],
          "name": "stdout"
        }
      ]
    },
    {
      "cell_type": "markdown",
      "metadata": {
        "id": "JWMqrDxr_y-m"
      },
      "source": [
        "######Verificando Ordenação"
      ]
    },
    {
      "cell_type": "code",
      "metadata": {
        "id": "Co0qqnuXMhuX"
      },
      "source": [
        "# Verificando Ordenação\n",
        "a = int(input(\"Digite o primeiro valor: \"))\n",
        "b = int(input(\"Digite o segundo valor: \"))\n",
        "c = int(input(\"Digite o terceiro valor: \"))\n",
        "\n",
        "if (a < b and a < c) and (b < c):\n",
        "  print(\"\\nEstão em ordem crescente!\")\n",
        "else:\n",
        "  print(\"\\nNão estão em ordem crescente.\")"
      ],
      "execution_count": null,
      "outputs": []
    },
    {
      "cell_type": "markdown",
      "metadata": {
        "id": "TNAhHddUruHG"
      },
      "source": [
        "# Laços de Repetição\n",
        "While\n",
        "\n",
        "---\n",
        "\n"
      ]
    },
    {
      "cell_type": "markdown",
      "metadata": {
        "id": "etg-HwBuAKec"
      },
      "source": [
        "###Potência"
      ]
    },
    {
      "cell_type": "code",
      "metadata": {
        "id": "9LIYHsnErzkU"
      },
      "source": [
        "print(2 ** 0)\n",
        "print(2 ** 1)\n",
        "print(2 ** 2)\n",
        "print(2 ** 3)\n",
        "print(2 ** 4)\n",
        "print(2 ** 5)\n",
        "print()\n",
        "\n",
        "i = 0\n",
        "while i <= 5:\n",
        "  print(2 ** i)\n",
        "  i = i + 1"
      ],
      "execution_count": null,
      "outputs": []
    },
    {
      "cell_type": "markdown",
      "metadata": {
        "id": "czqifR5GAN-d"
      },
      "source": [
        "###Soma"
      ]
    },
    {
      "cell_type": "code",
      "metadata": {
        "id": "tsnrBAKMtGHI"
      },
      "source": [
        "limite = int(input(\"Quantos valores serão somados?\\n\"))\n",
        "print()\n",
        "soma = 0\n",
        "\n",
        "i = 1\n",
        "while i <= limite:\n",
        "  valor = int(input(\"Valor: \"))\n",
        "  soma = soma + valor\n",
        "  i += 1\n",
        "\n",
        "print(\"\\nA soma é:\", soma)"
      ],
      "execution_count": null,
      "outputs": []
    },
    {
      "cell_type": "markdown",
      "metadata": {
        "id": "SY9RX03VAQ8O"
      },
      "source": [
        "###Laços de Repetição com Variáveis Booleanas"
      ]
    },
    {
      "cell_type": "code",
      "metadata": {
        "colab": {
          "base_uri": "https://localhost:8080/"
        },
        "id": "7BjjnBNLxhOY",
        "outputId": "d411b403-1e48-4b73-9234-d69ecf02bf24"
      },
      "source": [
        "decrescente = True\r\n",
        "anterior = int(input(\"Digite o primeiro número da sequência: \"))\r\n",
        "valor = 1\r\n",
        "\r\n",
        "while valor != 0 and decrescente: # enquanto o decrescente for True e o valor for diferente de 0, o while vai continuar executando\r\n",
        "  valor = int(input(\"Digite o próximo número da sequência: \"))\r\n",
        "\r\n",
        "  if valor > anterior:\r\n",
        "    decrescente = False\r\n",
        "  \r\n",
        "  anterior = valor\r\n",
        "\r\n",
        "if decrescente: # se decrescente for True\r\n",
        "  print(\"\\nA sequência está em ordem decrescente!\")\r\n",
        "else:\r\n",
        "  print(\"\\nA sequência não está em ordem decrescente.\")\r\n",
        "\r\n",
        "# sempre que eu me referir a uma variavel em que o valor inicial for igual ao da condição, não precisa especificar\r\n",
        "# como nos casos usados nos laços de repetição"
      ],
      "execution_count": null,
      "outputs": [
        {
          "output_type": "stream",
          "text": [
            "Digite o primeiro número da sequência: 9\n",
            "Digite o próximo número da sequência: 5\n",
            "Digite o próximo número da sequência: 2\n",
            "Digite o próximo número da sequência: 3\n",
            "\n",
            "A sequência não está em ordem decrescente.\n"
          ],
          "name": "stdout"
        }
      ]
    },
    {
      "cell_type": "markdown",
      "metadata": {
        "id": "A7Cm3-7WAYuT"
      },
      "source": [
        "###Exemplos"
      ]
    },
    {
      "cell_type": "markdown",
      "metadata": {
        "id": "8DPAokPDAeT4"
      },
      "source": [
        "######Cartão de Crédito"
      ]
    },
    {
      "cell_type": "code",
      "metadata": {
        "id": "6wLK6NKN1PWl"
      },
      "source": [
        "meuCartão = int(input(\"Digite o número do seu cartão de crédito: \"))\r\n",
        "cartãoLido = 1\r\n",
        "encontreMeuCartãoNaLista = False\r\n",
        "\r\n",
        "while cartãoLido != 0 and not encontreMeuCartãoNaLista: # not encontreMeuCartãoNaLista -> encontreMeuCartãoNaLista = True\r\n",
        "  cartãoLido = int(input(\"Digite o número do próximo cartão de crédito: \"))\r\n",
        "\r\n",
        "  if cartãoLido == meuCartão:\r\n",
        "    encontreMeuCartãoNaLista = True\r\n",
        "\r\n",
        "if encontreMeuCartãoNaLista:\r\n",
        "  print(\"\\nAee! Meu cartão está na lista!\")\r\n",
        "else:\r\n",
        "  print(\"\\nXiih! Meu cartão não está na lista...\")"
      ],
      "execution_count": null,
      "outputs": []
    },
    {
      "cell_type": "markdown",
      "metadata": {
        "id": "QXRWEytZAid6"
      },
      "source": [
        "######Números Adjacentes Iguais - Pego na Internet"
      ]
    },
    {
      "cell_type": "code",
      "metadata": {
        "id": "ojUZ4Vvx2vLK",
        "colab": {
          "base_uri": "https://localhost:8080/"
        },
        "outputId": "1e870085-382d-448b-a58a-fc3ec32a590a"
      },
      "source": [
        "n = int(input(\"Digite um numero: \"))\r\n",
        "n_salvo = n\r\n",
        "\r\n",
        "anterior = n % 10\r\n",
        "n = n // 10;\r\n",
        "adj_iguais = False;\r\n",
        "pos = 0\r\n",
        "\r\n",
        "while n > 0 and not adj_iguais:\r\n",
        "    atual = n % 10\r\n",
        "\r\n",
        "    if atual == anterior:\r\n",
        "        adj_iguais = True\r\n",
        "    else:\r\n",
        "        pos += 1\r\n",
        "\r\n",
        "    anterior = atual\r\n",
        "    n = n // 10\r\n",
        "\r\n",
        "if adj_iguais:\r\n",
        "    print(n_salvo, \"tem dois digitos\", atual, \"adjacentes\")\r\n",
        "else:\r\n",
        "    print(n_salvo, \"nao tem digitos iguais adjacentes\")"
      ],
      "execution_count": null,
      "outputs": [
        {
          "output_type": "stream",
          "text": [
            "Digite um numero: 1233\n",
            "1233 tem dois digitos 3 adjacentes\n"
          ],
          "name": "stdout"
        }
      ]
    },
    {
      "cell_type": "markdown",
      "metadata": {
        "id": "Sb99ni9OApu-"
      },
      "source": [
        "######Fatorial"
      ]
    },
    {
      "cell_type": "code",
      "metadata": {
        "colab": {
          "base_uri": "https://localhost:8080/"
        },
        "id": "nG7TfMSEiRhW",
        "outputId": "56ca8fe8-58f5-4d67-ed25-275637795a19"
      },
      "source": [
        "num = int(input(\"Digite um número: \"))\r\n",
        "num_inicial = num\r\n",
        "fat = 1\r\n",
        "\r\n",
        "while num > 1:\r\n",
        "  fat = fat * num\r\n",
        "  num = num - 1\r\n",
        "\r\n",
        "print(\"O fatorial de\", num_inicial, \"é:\", fat)"
      ],
      "execution_count": null,
      "outputs": [
        {
          "output_type": "stream",
          "text": [
            "Digite um número: 3\n",
            "O fatorial de 3 é: 6\n"
          ],
          "name": "stdout"
        }
      ]
    },
    {
      "cell_type": "markdown",
      "metadata": {
        "id": "X-ogh7UGAtpo"
      },
      "source": [
        "######Ímpares"
      ]
    },
    {
      "cell_type": "code",
      "metadata": {
        "colab": {
          "base_uri": "https://localhost:8080/"
        },
        "id": "vMq0MX67lhzU",
        "outputId": "331c072b-0f38-4f28-fa26-8cde6b5edf2e"
      },
      "source": [
        "num = int(input(\"Digite um número: \"))\r\n",
        "num_vetor = 1\r\n",
        "impar = []\r\n",
        "\r\n",
        "while num > 0:\r\n",
        "  impar.append(num_vetor)\r\n",
        "  \r\n",
        "  num_vetor += 2\r\n",
        "  num -= 1\r\n",
        "\r\n",
        "for i in reversed(impar):\r\n",
        "  print(i)"
      ],
      "execution_count": null,
      "outputs": [
        {
          "output_type": "stream",
          "text": [
            "Digite um número: 5\n",
            "9\n",
            "7\n",
            "5\n",
            "3\n",
            "1\n"
          ],
          "name": "stdout"
        }
      ]
    },
    {
      "cell_type": "markdown",
      "metadata": {
        "id": "RZufMpyqAwvR"
      },
      "source": [
        "######Soma dos Números"
      ]
    },
    {
      "cell_type": "code",
      "metadata": {
        "colab": {
          "base_uri": "https://localhost:8080/"
        },
        "id": "Glacni7lnvSs",
        "outputId": "1d71ee18-bdd8-445a-f5cf-03f40c75b208"
      },
      "source": [
        "n = int(input(\"Digite um número inteiro: \"))\r\n",
        "soma = 0\r\n",
        "\r\n",
        "print(n)\r\n",
        "\r\n",
        "while n > 0:\r\n",
        "  i = n % 10\r\n",
        "  while i >= 10:\r\n",
        "    i = i % n\r\n",
        "\r\n",
        "  n //= 10\r\n",
        "  soma += i\r\n",
        "\r\n",
        "print(soma)"
      ],
      "execution_count": null,
      "outputs": [
        {
          "output_type": "stream",
          "text": [
            "Digite um número inteiro: 1235\n",
            "1235\n",
            "11\n"
          ],
          "name": "stdout"
        }
      ]
    },
    {
      "cell_type": "markdown",
      "metadata": {
        "id": "zpVG5kxgA0nv"
      },
      "source": [
        "######Número Primo"
      ]
    },
    {
      "cell_type": "code",
      "metadata": {
        "colab": {
          "base_uri": "https://localhost:8080/"
        },
        "id": "RiAJHGVxwsh2",
        "outputId": "10dcc258-09e1-4156-f471-186d3b18ab81"
      },
      "source": [
        "num = int(input(\"Digite um número inteiro: \"))\r\n",
        "i = 1\r\n",
        "cont = 0\r\n",
        "\r\n",
        "while i <= num:\r\n",
        "  if num % i == 0:\r\n",
        "    cont += 1\r\n",
        "\r\n",
        "  i += 1\r\n",
        "\r\n",
        "if cont == 2:\r\n",
        "  print(\"Primo\")\r\n",
        "else:\r\n",
        "  print(\"Não primo\")"
      ],
      "execution_count": null,
      "outputs": [
        {
          "output_type": "stream",
          "text": [
            "Digite um número inteiro: 9\n",
            "não primo\n"
          ],
          "name": "stdout"
        }
      ]
    },
    {
      "cell_type": "markdown",
      "metadata": {
        "id": "2qfJZMadzNnw"
      },
      "source": [
        "# Funções\r\n",
        "\r\n",
        "---\r\n",
        "\r\n"
      ]
    },
    {
      "cell_type": "markdown",
      "metadata": {
        "id": "JQhrbqTIA-o8"
      },
      "source": [
        "###Declarando Funções / Subrotinas"
      ]
    },
    {
      "cell_type": "code",
      "metadata": {
        "colab": {
          "base_uri": "https://localhost:8080/"
        },
        "id": "Kddis-uXzRLn",
        "outputId": "071f57d7-183a-4ced-d10e-5377aeba03fb"
      },
      "source": [
        "def soma(x, y): # def -> estou \"definindo\" uma função\r\n",
        "  return x + y\r\n",
        "\r\n",
        "def mult(x, y):\r\n",
        "  return x * y\r\n",
        "\r\n",
        "def nome_time():\r\n",
        "  return \"SPFC\"\r\n",
        "\r\n",
        "def meu_nome():\r\n",
        "  print(\"Meu nome é Fabrício\")\r\n",
        "\r\n",
        "x = int(input(\"Digite o primeiro número: \"))\r\n",
        "y = int(input(\"Digite o segundo número: \"))\r\n",
        "\r\n",
        "print(\"\\nA soma é\", soma(x, y))\r\n",
        "print(\"A soma é\", soma(x + y, y))\r\n",
        "print(\"A soma é\", soma(x, soma(x, y)))\r\n",
        "\r\n",
        "print(\"\\nA multiplicação é\", mult(x, y))\r\n",
        "print(\"A multiplicação é\", mult(soma(x, x), mult(y, y)))\r\n",
        "\r\n",
        "print(\"\\nO nome do meu time é\", nome_time())\r\n",
        "\r\n",
        "meu_nome()"
      ],
      "execution_count": null,
      "outputs": [
        {
          "output_type": "stream",
          "text": [
            "Digite o primeiro número: 10\n",
            "Digite o segundo número: 5\n",
            "\n",
            "A soma é 15\n",
            "A soma é 20\n",
            "A soma é 25\n",
            "\n",
            "A multiplicação é 50\n",
            "A multiplicação é 500\n",
            "\n",
            "O nome do meu time é SPFC\n",
            "Meu nome é Fabrício\n"
          ],
          "name": "stdout"
        }
      ]
    },
    {
      "cell_type": "markdown",
      "metadata": {
        "id": "2HmnorMBBECT"
      },
      "source": [
        "###Coeficiênte Binomial"
      ]
    },
    {
      "cell_type": "code",
      "metadata": {
        "colab": {
          "base_uri": "https://localhost:8080/"
        },
        "id": "krDqy8ZJOPX0",
        "outputId": "b9b8d23b-c8eb-4b13-aeb0-ac3754795111"
      },
      "source": [
        "def fatorial(n):\r\n",
        "  fat = 1\r\n",
        "\r\n",
        "  while (n > 1):\r\n",
        "    fat = fat * n\r\n",
        "    n -= 1\r\n",
        "\r\n",
        "  return fat\r\n",
        "\r\n",
        "def num_binomial(n, k):\r\n",
        "  return fatorial(n) // (fatorial(k) * fatorial(n - k))\r\n",
        "\r\n",
        "def testa_fatorial():\r\n",
        "  if fatorial(0) == 1:\r\n",
        "    print(\"Funciona para 0\")\r\n",
        "\r\n",
        "  if fatorial(1) == 1:\r\n",
        "    print(\"Funciona para 1\")\r\n",
        "\r\n",
        "  if fatorial(2) == 2:\r\n",
        "    print(\"Funciona para 2\")\r\n",
        "\r\n",
        "  if fatorial(3) == 6:\r\n",
        "    print(\"Funciona para 3\")\r\n",
        "\r\n",
        "\r\n",
        "testa_fatorial()\r\n",
        "\r\n",
        "num1 = int(input(\"\\nDigite o primeiro número: \"))\r\n",
        "num2 = int(input(\"Digite o segundo número: \"))\r\n",
        "\r\n",
        "num_binomial(num1, num2)"
      ],
      "execution_count": null,
      "outputs": [
        {
          "output_type": "stream",
          "text": [
            "Funciona para 0\n",
            "Funciona para 1\n",
            "Funciona para 2\n",
            "Funciona para 3\n",
            "\n",
            "Digite o primeiro número: 20\n",
            "Digite o segundo número: 10\n"
          ],
          "name": "stdout"
        },
        {
          "output_type": "execute_result",
          "data": {
            "text/plain": [
              "184756"
            ]
          },
          "metadata": {
            "tags": []
          },
          "execution_count": 7
        }
      ]
    },
    {
      "cell_type": "markdown",
      "metadata": {
        "id": "0YS5dd1WBHUH"
      },
      "source": [
        "###Desafio - Equação 2º Grau (Funções)"
      ]
    },
    {
      "cell_type": "code",
      "metadata": {
        "id": "vXLmL_Q33nsa",
        "colab": {
          "base_uri": "https://localhost:8080/"
        },
        "outputId": "12a6e998-5ce5-4118-d16b-12d50b18f11a"
      },
      "source": [
        "import math # importando a biblioteca\r\n",
        "\r\n",
        "# Funções\r\n",
        "def fun_delta(a, b, c):\r\n",
        "  delta = (b ** 2) - 4 * a * c\r\n",
        "  return delta\r\n",
        "\r\n",
        "def raizes_x1(a, b, delta):\r\n",
        "  if delta >= 0:\r\n",
        "    x1 = (- b + math.sqrt(delta)) / (2 * a)\r\n",
        "    return x1\r\n",
        "  else:\r\n",
        "    x1 = 0\r\n",
        "    return x1\r\n",
        "\r\n",
        "def raizes_x2(a, b, delta):\r\n",
        "  if delta > 0:\r\n",
        "    x2 = (- b - math.sqrt(delta)) / (2 * a)\r\n",
        "    return x2\r\n",
        "  else:\r\n",
        "    x2 = 0\r\n",
        "    return x2\r\n",
        "\r\n",
        "def imprime(a, b, c, delta, x1, x2):\r\n",
        "  if delta > 0:\r\n",
        "    print(\"\\nResultado...\")\r\n",
        "    print(\"A:\", a, \"\\nB:\", b, \"\\nC:\", c)\r\n",
        "    print(\"Delta:\", delta)\r\n",
        "    print(\"Raíz 1:\", x1, \"\\nRaíz 2:\", x2)\r\n",
        "  elif delta == 0:\r\n",
        "    print(\"\\n- Resultado...\")\r\n",
        "    print(\"A:\", a, \"\\nB:\", b, \"\\nC:\", c)\r\n",
        "    print(\"Delta:\", delta)\r\n",
        "    print(\"Raíz 1:\", x1)\r\n",
        "    print(\"\\nNa equação onde o delta é igual à 0, as raízes são iguais ou existe apenas uma.\")\r\n",
        "  else:\r\n",
        "    print(\"\\nCom o delta negativo, não tem como realizar a operação.\")\r\n",
        "\r\n",
        "# Função Principal\r\n",
        "def main():\r\n",
        "  a = int(input(\"Digite o valor de A: \"))\r\n",
        "  b = int(input(\"Digite o valor de B: \"))\r\n",
        "  c = int(input(\"Digite o valor de C: \"))\r\n",
        "\r\n",
        "  delta = fun_delta(a, b, c)\r\n",
        "  x1 = raizes_x1(a, b, delta)\r\n",
        "  x2 = raizes_x2(a, b, delta)\r\n",
        "\r\n",
        "  imprime(a, b, c, delta, x1, x2)\r\n",
        "\r\n",
        "\r\n",
        "# Executando...\r\n",
        "main()"
      ],
      "execution_count": null,
      "outputs": [
        {
          "output_type": "stream",
          "text": [
            "Digite o valor de A: 10\n",
            "Digite o valor de B: 30\n",
            "Digite o valor de C: 20\n",
            "\n",
            "Resultado...\n",
            "A: 10 \n",
            "B: 30 \n",
            "C: 20\n",
            "Delta: 100\n",
            "Raíz 1: -1.0 \n",
            "Raíz 2: -2.0\n"
          ],
          "name": "stdout"
        }
      ]
    },
    {
      "cell_type": "markdown",
      "metadata": {
        "id": "x7hQwT-yVncg"
      },
      "source": [
        "###Testes Automatiados"
      ]
    },
    {
      "cell_type": "code",
      "metadata": {
        "id": "M30ym-hxTinP"
      },
      "source": [
        "def func(x):\r\n",
        "  return x + 1\r\n",
        "\r\n",
        "def test_answer():\r\n",
        "  assert func(3) == 4 # o \"assert\" testa, se der certo, continua, se der errado, mostra um erro\r\n",
        "\r\n",
        "test_answer()"
      ],
      "execution_count": null,
      "outputs": []
    },
    {
      "cell_type": "code",
      "metadata": {
        "id": "2BG9ZLVmVRpi"
      },
      "source": [
        "def fatorial(n):\r\n",
        "  fat = 1\r\n",
        "\r\n",
        "  while (n > 1):\r\n",
        "    fat = fat * n\r\n",
        "    n -= 1\r\n",
        "\r\n",
        "  return fat\r\n",
        "\r\n",
        "def test_fatorial_1():\r\n",
        "  assert fatorial(0) == 1\r\n",
        "\r\n",
        "def test_fatorial_2():\r\n",
        "  assert fatorial(-10) == 12\r\n",
        "\r\n",
        "def test_fatorial_3():\r\n",
        "  assert fatorial(3) == 6\r\n",
        "\r\n",
        "test_fatorial_1()\r\n",
        "test_fatorial_2() # ele vai apontar o erro nesta função\r\n",
        "test_fatorial_3()"
      ],
      "execution_count": null,
      "outputs": []
    },
    {
      "cell_type": "markdown",
      "metadata": {
        "id": "qaE8rMI2BUUr"
      },
      "source": [
        "###Exercícios"
      ]
    },
    {
      "cell_type": "markdown",
      "metadata": {
        "id": "dfAzZel7BYDE"
      },
      "source": [
        "######Maior"
      ]
    },
    {
      "cell_type": "code",
      "metadata": {
        "colab": {
          "base_uri": "https://localhost:8080/"
        },
        "id": "l_X2_H-clpSs",
        "outputId": "b06ee833-ae09-4758-a85e-cec818291c36"
      },
      "source": [
        "def maior(x, y):\r\n",
        "  if x > y:\r\n",
        "    return x\r\n",
        "  else:\r\n",
        "    return y\r\n",
        "\r\n",
        "a = int(input(\"Digite o primeiro número: \"))\r\n",
        "b = int(input(\"Digite o segundo número: \"))\r\n",
        "\r\n",
        "print(\"\\nO maior entre A e B é:\", maior(a, b))"
      ],
      "execution_count": null,
      "outputs": [
        {
          "output_type": "stream",
          "text": [
            "Digite o primeiro número: 5\n",
            "Digite o segundo número: 20\n"
          ],
          "name": "stdout"
        },
        {
          "output_type": "execute_result",
          "data": {
            "text/plain": [
              "20"
            ]
          },
          "metadata": {
            "tags": []
          },
          "execution_count": 3
        }
      ]
    },
    {
      "cell_type": "markdown",
      "metadata": {
        "id": "TxGO8oDKBakJ"
      },
      "source": [
        "######Maior Primo"
      ]
    },
    {
      "cell_type": "code",
      "metadata": {
        "colab": {
          "base_uri": "https://localhost:8080/"
        },
        "id": "xJGr2V_bmkhU",
        "outputId": "9e4b9a75-c8d6-4722-80fc-5876f56d583e"
      },
      "source": [
        "def maior_primo(numero_inicial):\r\n",
        "  numero_checagem = 1\r\n",
        "\r\n",
        "  while numero_checagem <= numero_inicial:\r\n",
        "    indice = 1\r\n",
        "    cont = 0\r\n",
        "    while indice <= numero_checagem:\r\n",
        "      if numero_checagem % indice == 0:\r\n",
        "        cont += 1\r\n",
        "\r\n",
        "      indice += 1\r\n",
        "\r\n",
        "    if cont == 2:\r\n",
        "      maior = numero_checagem\r\n",
        "\r\n",
        "    numero_checagem += 1\r\n",
        "\r\n",
        "  return maior\r\n",
        "\r\n",
        "a = int(input(\"Digite um número para verificação: \"))\r\n",
        "print(\"\\nO maior número primo verificado é:\", maior_primo(a))"
      ],
      "execution_count": null,
      "outputs": [
        {
          "output_type": "stream",
          "text": [
            "Digite um número para verificação: 14\n"
          ],
          "name": "stdout"
        },
        {
          "output_type": "execute_result",
          "data": {
            "text/plain": [
              "13"
            ]
          },
          "metadata": {
            "tags": []
          },
          "execution_count": 20
        }
      ]
    },
    {
      "cell_type": "markdown",
      "metadata": {
        "id": "uVy-HmRhBddB"
      },
      "source": [
        "######Vogal"
      ]
    },
    {
      "cell_type": "code",
      "metadata": {
        "colab": {
          "base_uri": "https://localhost:8080/"
        },
        "id": "BmojA4d8q9F-",
        "outputId": "b45f3234-036d-4840-c0db-5f507dd084cd"
      },
      "source": [
        "def vogal(a):\r\n",
        "  if (a == \"a\" or a == \"A\") or (a == \"e\" or a == \"E\") or (a == \"i\" or a == \"I\") or (a == \"o\" or a == \"O\") or (a == \"u\" or a == \"U\"):\r\n",
        "    return True\r\n",
        "  else:\r\n",
        "    return False\r\n",
        "\r\n",
        "letra = input(\"Digite uma letra para checagem: \")\r\n",
        "print(\"-->\", vogal(letra))"
      ],
      "execution_count": null,
      "outputs": [
        {
          "output_type": "stream",
          "text": [
            "Digite uma letra para checagem: a\n",
            "--> True\n"
          ],
          "name": "stdout"
        }
      ]
    },
    {
      "cell_type": "markdown",
      "metadata": {
        "id": "lwwk9cK-Bfu5"
      },
      "source": [
        "######FizzBuzz com Função"
      ]
    },
    {
      "cell_type": "code",
      "metadata": {
        "colab": {
          "base_uri": "https://localhost:8080/"
        },
        "id": "Ss_tnQ7vt7LD",
        "outputId": "941e42b2-67d6-4a9d-e802-deae6578c5b5"
      },
      "source": [
        "def fizzbuzz(num):\r\n",
        "  if num % 3 == 0 and not num % 5 == 0:\r\n",
        "    print(\"**FIZZ**\")\r\n",
        "  elif num % 5 == 0 and not num % 3 == 0:\r\n",
        "    print(\"**BUZZ**\")\r\n",
        "  elif (num % 3 == 0) and (num % 5 == 0):\r\n",
        "    print(\"**FIZZBUZZ**\")\r\n",
        "  else:\r\n",
        "    print(num)\r\n",
        "\r\n",
        "a = int(input())\r\n",
        "fizzbuzz(a)"
      ],
      "execution_count": null,
      "outputs": [
        {
          "output_type": "stream",
          "text": [
            "19\n",
            "19\n"
          ],
          "name": "stdout"
        }
      ]
    },
    {
      "cell_type": "markdown",
      "metadata": {
        "id": "sVEKbBRlsViO"
      },
      "source": [
        "# Depurador e Refatoração\r\n",
        "\r\n",
        "---\r\n",
        "\r\n"
      ]
    },
    {
      "cell_type": "markdown",
      "metadata": {
        "id": "F_KQmQGlEdq9"
      },
      "source": [
        "###Exercícios"
      ]
    },
    {
      "cell_type": "markdown",
      "metadata": {
        "id": "drpUHjrpEkcc"
      },
      "source": [
        "######Jogo do NIM"
      ]
    },
    {
      "cell_type": "code",
      "metadata": {
        "id": "4LFepU4jsUzu"
      },
      "source": [
        "placar_jogador = 0\r\n",
        "placar_computador = 0\r\n",
        "\r\n",
        "print(\"Bem-vindo ao jogo do NIM! Escolha:\")\r\n",
        "print(\"\\n1 - Para jogar uma partida isolada\")\r\n",
        "print(\"2 - Para jogar um campeonato\")\r\n",
        "\r\n",
        "escolha = 0\r\n",
        "while escolha != 1 and escolha != 2:\r\n",
        "  escolha = int(input(\"\\n--> \"))\r\n",
        "  if escolha != 1 and escolha != 2:\r\n",
        "    print(\"Resposta inválida... Tente novamente!\")\r\n",
        "\r\n",
        "if escolha == 1:\r\n",
        "  print(\"Você escolheu uma partida isolada!\")\r\n",
        "  print()\r\n",
        "\r\n",
        "  num_pecas = int(input(\"Quantas peças? \"))\r\n",
        "  limite_pecas = int(input(\"Limite de peças por jogada? \"))\r\n",
        "\r\n",
        "  if num_pecas % (limite_pecas + 1) == 0:\r\n",
        "    print(\"\\nVocê começa!\")\r\n",
        "    \r\n",
        "    while num_pecas > 0:\r\n",
        "      # Jogador\r\n",
        "      retira_jogador = limite_pecas + 1\r\n",
        "      while retira_jogador > limite_pecas:\r\n",
        "        retira_jogador = int(input(\"\\nQuantas peças você vai tirar? \"))\r\n",
        "        if retira_jogador > limite_pecas:\r\n",
        "          print(\"Ops! Jogada inválida! Tente de novo.\")\r\n",
        "      \r\n",
        "      print(\"Você tirou\", retira_jogador, \"peças.\")\r\n",
        "\r\n",
        "      num_pecas = num_pecas - retira_jogador\r\n",
        "\r\n",
        "      if num_pecas == 1:\r\n",
        "        print(\"Agora resta apenas uma peça no tabuleiro.\")\r\n",
        "      elif num_pecas > 1:\r\n",
        "        print(\"Agora restam\", num_pecas, \"no tabuleiro.\")\r\n",
        "      else:\r\n",
        "        print(\"Fim do jogo! Você ganhou!\")\r\n",
        "        break\r\n",
        "\r\n",
        "      print()\r\n",
        "\r\n",
        "      # Computador\r\n",
        "      indice = 1\r\n",
        "      while indice < limite_pecas:\r\n",
        "        if (limite_pecas + 1) % indice == 0:\r\n",
        "          maior_multiplo = indice\r\n",
        "\r\n",
        "        indice += 1\r\n",
        "\r\n",
        "      if maior_multiplo == 1:\r\n",
        "        maior_multiplo = limite_pecas\r\n",
        "\r\n",
        "      retira_computador = maior_multiplo\r\n",
        "      print(\"O computador tirou\", retira_computador, \"peças.\")\r\n",
        "\r\n",
        "      num_pecas = num_pecas - retira_computador\r\n",
        "\r\n",
        "      if num_pecas == 1:\r\n",
        "        print(\"Agora resta apenas uma peça no tabuleiro.\")\r\n",
        "      elif num_pecas > 1:\r\n",
        "        print(\"Agora restam\", num_pecas, \"no tabuleiro.\")\r\n",
        "      else:\r\n",
        "        print(\"Fim do jogo! O computador ganhou!\")\r\n",
        "        break\r\n",
        "  else:\r\n",
        "    print(\"\\nComputador começa!\")\r\n",
        "\r\n",
        "    while num_pecas > 0:\r\n",
        "      # Computador\r\n",
        "      indice = 1\r\n",
        "      while indice < limite_pecas:\r\n",
        "        if (limite_pecas + 1) % indice == 0:\r\n",
        "          maior_multiplo = indice\r\n",
        "\r\n",
        "        indice += 1\r\n",
        "\r\n",
        "      if maior_multiplo == 1:\r\n",
        "        maior_multiplo = limite_pecas\r\n",
        "\r\n",
        "      retira_computador = maior_multiplo\r\n",
        "      print(\"\\nO computador tirou\", retira_computador, \"peças.\")\r\n",
        "\r\n",
        "      num_pecas = num_pecas - retira_computador\r\n",
        "\r\n",
        "      if num_pecas == 1:\r\n",
        "        print(\"Agora resta apenas uma peça no tabuleiro.\")\r\n",
        "      elif num_pecas > 1:\r\n",
        "        print(\"Agora restam\", num_pecas, \"no tabuleiro.\")\r\n",
        "      else:\r\n",
        "        print(\"Fim do jogo! O computador ganhou!\")\r\n",
        "        break\r\n",
        "\r\n",
        "      print()\r\n",
        "\r\n",
        "      # Jogador\r\n",
        "      retira_jogador = limite_pecas + 1\r\n",
        "      while retira_jogador > limite_pecas:\r\n",
        "        retira_jogador = int(input(\"Quantas peças você vai tirar? \"))\r\n",
        "        if retira_jogador > limite_pecas:\r\n",
        "          print(\"Ops! Jogada inválida! Tente de novo.\")\r\n",
        "      \r\n",
        "      print(\"Você tirou\", retira_jogador, \"peças.\")\r\n",
        "\r\n",
        "      num_pecas = num_pecas - retira_jogador\r\n",
        "\r\n",
        "      if num_pecas == 1:\r\n",
        "        print(\"Agora resta apenas uma peça no tabuleiro.\")\r\n",
        "      elif num_pecas > 1:\r\n",
        "        print(\"Agora restam\", num_pecas, \"no tabuleiro.\")\r\n",
        "      else:\r\n",
        "        print(\"Fim do jogo! Você ganhou!\")\r\n",
        "        break\r\n",
        "else:\r\n",
        "  print(\"Você escolheu um campeonato!\")\r\n",
        "\r\n",
        "  rodada = 1\r\n",
        "  while rodada <= 3:\r\n",
        "    print()\r\n",
        "    print(\"**** Rodada\", rodada, \"****\")\r\n",
        "\r\n",
        "    num_pecas = int(input(\"Quantas peças? \"))\r\n",
        "    limite_pecas = int(input(\"Limite de peças por jogada? \"))\r\n",
        "\r\n",
        "    if num_pecas % (limite_pecas + 1) == 0:\r\n",
        "      print(\"\\nVocê começa!\")\r\n",
        "    \r\n",
        "      while num_pecas > 0:\r\n",
        "        # Jogador\r\n",
        "        retira_jogador = limite_pecas + 1\r\n",
        "        while retira_jogador > limite_pecas:\r\n",
        "          retira_jogador = int(input(\"\\nQuantas peças você vai tirar? \"))\r\n",
        "          if retira_jogador > limite_pecas:\r\n",
        "            print(\"Ops! Jogada inválida! Tente de novo.\")\r\n",
        "      \r\n",
        "        print(\"Você tirou\", retira_jogador, \"peças.\")\r\n",
        "\r\n",
        "        num_pecas = num_pecas - retira_jogador\r\n",
        "\r\n",
        "        if num_pecas == 1:\r\n",
        "          print(\"Agora resta apenas uma peça no tabuleiro.\")\r\n",
        "        elif num_pecas > 1:\r\n",
        "          print(\"Agora restam\", num_pecas, \"no tabuleiro.\")\r\n",
        "        else:\r\n",
        "          print(\"Fim do jogo! Você ganhou!\")\r\n",
        "          placar_jogador += 1\r\n",
        "          break\r\n",
        "\r\n",
        "        print()\r\n",
        "\r\n",
        "        # Computador\r\n",
        "        indice = 1\r\n",
        "        while indice < limite_pecas:\r\n",
        "          if (limite_pecas + 1) % indice == 0:\r\n",
        "            maior_multiplo = indice\r\n",
        "\r\n",
        "          indice += 1\r\n",
        "\r\n",
        "        if maior_multiplo > limite_pecas:\r\n",
        "          maior_multiplo = limite_pecas\r\n",
        "\r\n",
        "        retira_computador = maior_multiplo\r\n",
        "        print(\"O computador tirou\", retira_computador, \"peças.\")\r\n",
        "\r\n",
        "        num_pecas = num_pecas - retira_computador\r\n",
        "\r\n",
        "        if num_pecas == 1:\r\n",
        "          print(\"Agora resta apenas uma peça no tabuleiro.\")\r\n",
        "        elif num_pecas > 1:\r\n",
        "          print(\"Agora restam\", num_pecas, \"no tabuleiro.\")\r\n",
        "        else:\r\n",
        "          print(\"Fim do jogo! O computador ganhou!\")\r\n",
        "          placar_computador += 1\r\n",
        "          break\r\n",
        "    else:\r\n",
        "      print(\"\\nComputador começa!\")\r\n",
        "\r\n",
        "      while num_pecas > 0:\r\n",
        "        # Computador\r\n",
        "        indice = 1\r\n",
        "        while indice < limite_pecas:\r\n",
        "          if (limite_pecas + 1) % indice == 0:\r\n",
        "            maior_multiplo = indice\r\n",
        "\r\n",
        "          indice += 1\r\n",
        "\r\n",
        "        if maior_multiplo > limite_pecas:\r\n",
        "          maior_multiplo = limite_pecas\r\n",
        "\r\n",
        "        retira_computador = maior_multiplo\r\n",
        "        print(\"\\nO computador tirou\", retira_computador, \"peças.\")\r\n",
        "\r\n",
        "        num_pecas = num_pecas - retira_computador\r\n",
        "\r\n",
        "        if num_pecas == 1:\r\n",
        "          print(\"Agora resta apenas uma peça no tabuleiro.\")\r\n",
        "        elif num_pecas > 1:\r\n",
        "          print(\"Agora restam\", num_pecas, \"no tabuleiro.\")\r\n",
        "        else:\r\n",
        "          print(\"Fim do jogo! O computador ganhou!\")\r\n",
        "          placar_computador += 1\r\n",
        "          break\r\n",
        "\r\n",
        "        print()\r\n",
        "\r\n",
        "        # Jogador\r\n",
        "        retira_jogador = limite_pecas + 1\r\n",
        "        while retira_jogador > limite_pecas:\r\n",
        "          retira_jogador = int(input(\"Quantas peças você vai tirar? \"))\r\n",
        "          if retira_jogador > limite_pecas:\r\n",
        "            print(\"Ops! Jogada inválida! Tente de novo.\")\r\n",
        "      \r\n",
        "        print(\"Você tirou\", retira_jogador, \"peças.\")\r\n",
        "\r\n",
        "        num_pecas = num_pecas - retira_jogador\r\n",
        "\r\n",
        "        if num_pecas == 1:\r\n",
        "          print(\"Agora resta apenas uma peça no tabuleiro.\")\r\n",
        "        elif num_pecas > 1:\r\n",
        "          print(\"Agora restam\", num_pecas, \"no tabuleiro.\")\r\n",
        "        else:\r\n",
        "          print(\"Fim do jogo! Você ganhou!\")\r\n",
        "          placar_jogador += 1\r\n",
        "          break\r\n",
        "\r\n",
        "    rodada += 1\r\n",
        "\r\n",
        "  print(\"**** Final do campeonato! ****\")\r\n",
        "  print(\"\\nPlacar: Você\", placar_jogador, \"X\", placar_computador, \"Computador\")"
      ],
      "execution_count": null,
      "outputs": []
    },
    {
      "cell_type": "markdown",
      "metadata": {
        "id": "uvtziWV6EndL"
      },
      "source": [
        "######Jogo do NIM (Com Função)"
      ]
    },
    {
      "cell_type": "code",
      "metadata": {
        "id": "w7Gu3v8gGIuv"
      },
      "source": [
        "# Jogo do NIM\r\n",
        "\r\n",
        "def computador_escolhe_jogada(num_pecas, limite_pecas):\r\n",
        "  indice = 1\r\n",
        "  maior_multiplo = 1\r\n",
        "  while indice < limite_pecas:\r\n",
        "    if (limite_pecas + 1) % indice == 0:\r\n",
        "      maior_multiplo = indice\r\n",
        "\r\n",
        "    indice += 1\r\n",
        "\r\n",
        "  if maior_multiplo == 1:\r\n",
        "    maior_multiplo = limite_pecas\r\n",
        "\r\n",
        "  if limite_pecas > num_pecas:\r\n",
        "    maior_multiplo = num_pecas\r\n",
        "\r\n",
        "  return maior_multiplo  \r\n",
        "\r\n",
        "def usuario_escolhe_jogada(num_pecas, limite_pecas):\r\n",
        "  retira_jogador = limite_pecas + 1\r\n",
        "  while retira_jogador > limite_pecas or retira_jogador <= 0:\r\n",
        "    retira_jogador = int(input(\"\\nQuantas peças você vai tirar? \"))\r\n",
        "    if retira_jogador > limite_pecas:\r\n",
        "      print(\"Ops! Jogada inválida! Tente de novo.\")\r\n",
        "    elif retira_jogador <= 0:\r\n",
        "      print(\"Ops! Jogada inválida! Tente de novo.\")\r\n",
        "      \r\n",
        "  print(\"Você tirou\", retira_jogador, \"peças.\")\r\n",
        "\r\n",
        "  return retira_jogador\r\n",
        "\r\n",
        "def partida():\r\n",
        "  placar_jogador = 0\r\n",
        "  placar_computador = 0\r\n",
        "\r\n",
        "  print(\"Bem-vindo ao jogo do NIM! Escolha:\")\r\n",
        "  print(\"\\n1 - Para jogar uma partida isolada\")\r\n",
        "  print(\"2 - Para jogar um campeonato\")\r\n",
        "\r\n",
        "  escolha = 0\r\n",
        "  while escolha != 1 and escolha != 2:\r\n",
        "    escolha = int(input(\"\\n--> \"))\r\n",
        "    if escolha != 1 and escolha != 2:\r\n",
        "      print(\"Resposta inválida... Tente novamente!\")\r\n",
        "\r\n",
        "  if escolha == 1:\r\n",
        "    print(\"Você escolheu uma partida isolada!\")\r\n",
        "    print()\r\n",
        "\r\n",
        "    num_pecas = int(input(\"Quantas peças? \"))\r\n",
        "    limite_pecas = num_pecas + 1\r\n",
        "    while limite_pecas > num_pecas:\r\n",
        "      limite_pecas = int(input(\"Limite de peças por jogada? \"))\r\n",
        "\r\n",
        "    if num_pecas % (limite_pecas + 1) == 0:\r\n",
        "      print(\"\\nVocê começa!\")\r\n",
        "    \r\n",
        "      while num_pecas > 0:\r\n",
        "        # Jogador\r\n",
        "        num_pecas = num_pecas - usuario_escolhe_jogada(num_pecas, limite_pecas)\r\n",
        "\r\n",
        "        if num_pecas == 1:\r\n",
        "          print(\"Agora resta apenas uma peça no tabuleiro.\")\r\n",
        "        elif num_pecas > 1:\r\n",
        "          print(\"Agora restam\", num_pecas, \"peças no tabuleiro.\")\r\n",
        "        else:\r\n",
        "          print(\"Fim do jogo! Você ganhou!\")\r\n",
        "          break\r\n",
        "\r\n",
        "        print()\r\n",
        "\r\n",
        "        # Computador\r\n",
        "        retira_computador = computador_escolhe_jogada(num_pecas, limite_pecas)\r\n",
        "        print(\"O computador tirou\", retira_computador, \"peças.\")\r\n",
        "\r\n",
        "        num_pecas = num_pecas - retira_computador\r\n",
        "\r\n",
        "        if num_pecas == 1:\r\n",
        "          print(\"Agora resta apenas uma peça no tabuleiro.\")\r\n",
        "        elif num_pecas > 1:\r\n",
        "          print(\"Agora restam\", num_pecas, \"peças no tabuleiro.\")\r\n",
        "        else:\r\n",
        "          print(\"Fim do jogo! O computador ganhou!\")\r\n",
        "          break\r\n",
        "    else:\r\n",
        "      print(\"\\nComputador começa!\")\r\n",
        "\r\n",
        "      while num_pecas > 0:\r\n",
        "        # Computador\r\n",
        "        retira_computador = computador_escolhe_jogada(num_pecas, limite_pecas)\r\n",
        "        print(\"\\nO computador tirou\", retira_computador, \"peças.\")\r\n",
        "\r\n",
        "        num_pecas = num_pecas - retira_computador\r\n",
        "\r\n",
        "        if num_pecas == 1:\r\n",
        "          print(\"Agora resta apenas uma peça no tabuleiro.\")\r\n",
        "        elif num_pecas > 1:\r\n",
        "          print(\"Agora restam\", num_pecas, \"peças no tabuleiro.\")\r\n",
        "        else:\r\n",
        "          print(\"Fim do jogo! O computador ganhou!\")\r\n",
        "          break\r\n",
        "\r\n",
        "        print()\r\n",
        "\r\n",
        "        # Jogador\r\n",
        "        num_pecas = num_pecas - usuario_escolhe_jogada(num_pecas, limite_pecas)\r\n",
        "\r\n",
        "        if num_pecas == 1:\r\n",
        "          print(\"Agora resta apenas uma peça no tabuleiro.\")\r\n",
        "        elif num_pecas > 1:\r\n",
        "          print(\"Agora restam\", num_pecas, \"peças no tabuleiro.\")\r\n",
        "        else:\r\n",
        "          print(\"Fim do jogo! Você ganhou!\")\r\n",
        "          break\r\n",
        "  else:\r\n",
        "    print(\"Você escolheu um campeonato!\")\r\n",
        "\r\n",
        "    rodada = 1\r\n",
        "    while rodada <= 3:\r\n",
        "      print()\r\n",
        "      print(\"**** Rodada\", rodada, \"****\")\r\n",
        "\r\n",
        "      num_pecas = int(input(\"Quantas peças? \"))\r\n",
        "      limite_pecas = num_pecas + 1\r\n",
        "      while limite_pecas > num_pecas:\r\n",
        "        limite_pecas = int(input(\"Limite de peças por jogada? \"))\r\n",
        "\r\n",
        "      if num_pecas % (limite_pecas + 1) == 0:\r\n",
        "        print(\"\\nVocê começa!\")\r\n",
        "    \r\n",
        "        while num_pecas > 0:\r\n",
        "          # Jogador\r\n",
        "          num_pecas = num_pecas - usuario_escolhe_jogada(num_pecas, limite_pecas)\r\n",
        "\r\n",
        "          if num_pecas == 1:\r\n",
        "            print(\"Agora resta apenas uma peça no tabuleiro.\")\r\n",
        "          elif num_pecas > 1:\r\n",
        "            print(\"Agora restam\", num_pecas, \"peças no tabuleiro.\")\r\n",
        "          else:\r\n",
        "            print(\"Fim do jogo! Você ganhou!\")\r\n",
        "            placar_jogador += 1\r\n",
        "            break\r\n",
        "\r\n",
        "          print()\r\n",
        "\r\n",
        "          # Computador\r\n",
        "          retira_computador = computador_escolhe_jogada(num_pecas, limite_pecas)\r\n",
        "          print(\"O computador tirou\", retira_computador, \"peças.\")\r\n",
        "\r\n",
        "          num_pecas = num_pecas - retira_computador\r\n",
        "\r\n",
        "          if num_pecas == 1:\r\n",
        "            print(\"Agora resta apenas uma peça no tabuleiro.\")\r\n",
        "          elif num_pecas > 1:\r\n",
        "            print(\"Agora restam\", num_pecas, \"peças no tabuleiro.\")\r\n",
        "          else:\r\n",
        "            print(\"Fim do jogo! O computador ganhou!\")\r\n",
        "            placar_computador += 1\r\n",
        "            break\r\n",
        "      else:\r\n",
        "        print(\"\\nComputador começa!\")\r\n",
        "\r\n",
        "        while num_pecas > 0:\r\n",
        "          # Computador\r\n",
        "          retira_computador = computador_escolhe_jogada(num_pecas, limite_pecas)\r\n",
        "          print(\"\\nO computador tirou\", retira_computador, \"peças.\")\r\n",
        "\r\n",
        "          num_pecas = num_pecas - retira_computador\r\n",
        "\r\n",
        "          if num_pecas == 1:\r\n",
        "            print(\"Agora resta apenas uma peça no tabuleiro.\")\r\n",
        "          elif num_pecas > 1:\r\n",
        "            print(\"Agora restam\", num_pecas, \"peças no tabuleiro.\")\r\n",
        "          else:\r\n",
        "            print(\"Fim do jogo! O computador ganhou!\")\r\n",
        "            placar_computador += 1\r\n",
        "            break\r\n",
        "\r\n",
        "          print()\r\n",
        "\r\n",
        "          # Jogador\r\n",
        "          num_pecas = num_pecas - usuario_escolhe_jogada(num_pecas, limite_pecas)\r\n",
        "\r\n",
        "          if num_pecas == 1:\r\n",
        "            print(\"Agora resta apenas uma peça no tabuleiro.\")\r\n",
        "          elif num_pecas > 1:\r\n",
        "            print(\"Agora restam\", num_pecas, \"peças no tabuleiro.\")\r\n",
        "          else:\r\n",
        "            print(\"Fim do jogo! Você ganhou!\")\r\n",
        "            placar_jogador += 1\r\n",
        "            break\r\n",
        "\r\n",
        "      rodada += 1\r\n",
        "\r\n",
        "    print(\"**** Final do campeonato! ****\")\r\n",
        "    print(\"\\nPlacar: Você\", placar_jogador, \"X\", placar_computador, \"Computador\")\r\n",
        "    \r\n",
        "\r\n",
        "partida()"
      ],
      "execution_count": null,
      "outputs": []
    },
    {
      "cell_type": "markdown",
      "metadata": {
        "id": "DnRafhWphLgY"
      },
      "source": [
        "# Repetições Encaixadas - While Intercalado / Laços Alinhados\r\n",
        "\r\n",
        "---\r\n",
        "\r\n"
      ]
    },
    {
      "cell_type": "markdown",
      "metadata": {
        "id": "tUxUr2Q6D2qi"
      },
      "source": [
        "###Exemplos"
      ]
    },
    {
      "cell_type": "markdown",
      "metadata": {
        "id": "bsKndU8tD8k5"
      },
      "source": [
        "######Tabuada"
      ]
    },
    {
      "cell_type": "code",
      "metadata": {
        "colab": {
          "base_uri": "https://localhost:8080/"
        },
        "id": "CnaY7l_xhQLm",
        "outputId": "877e0f4e-c582-41fb-fb20-02e6bf7a84a4"
      },
      "source": [
        "linha = 1\r\n",
        "\r\n",
        "while linha <= 10:\r\n",
        "  coluna = 1\r\n",
        "  \r\n",
        "  while coluna <= 10:\r\n",
        "    print(coluna, \"*\", linha, \"=\", linha * coluna, end = \"\\t\") # o end impede de ir para a próxima linha como outro print, fica na mesma linha\r\n",
        "    coluna += 1\r\n",
        "  \r\n",
        "  print() # esse print faz as colunas\r\n",
        "  linha += 1"
      ],
      "execution_count": null,
      "outputs": [
        {
          "output_type": "stream",
          "text": [
            "1 * 1 = 1\t2 * 1 = 2\t3 * 1 = 3\t4 * 1 = 4\t5 * 1 = 5\t6 * 1 = 6\t7 * 1 = 7\t8 * 1 = 8\t9 * 1 = 9\t10 * 1 = 10\t\n",
            "1 * 2 = 2\t2 * 2 = 4\t3 * 2 = 6\t4 * 2 = 8\t5 * 2 = 10\t6 * 2 = 12\t7 * 2 = 14\t8 * 2 = 16\t9 * 2 = 18\t10 * 2 = 20\t\n",
            "1 * 3 = 3\t2 * 3 = 6\t3 * 3 = 9\t4 * 3 = 12\t5 * 3 = 15\t6 * 3 = 18\t7 * 3 = 21\t8 * 3 = 24\t9 * 3 = 27\t10 * 3 = 30\t\n",
            "1 * 4 = 4\t2 * 4 = 8\t3 * 4 = 12\t4 * 4 = 16\t5 * 4 = 20\t6 * 4 = 24\t7 * 4 = 28\t8 * 4 = 32\t9 * 4 = 36\t10 * 4 = 40\t\n",
            "1 * 5 = 5\t2 * 5 = 10\t3 * 5 = 15\t4 * 5 = 20\t5 * 5 = 25\t6 * 5 = 30\t7 * 5 = 35\t8 * 5 = 40\t9 * 5 = 45\t10 * 5 = 50\t\n",
            "1 * 6 = 6\t2 * 6 = 12\t3 * 6 = 18\t4 * 6 = 24\t5 * 6 = 30\t6 * 6 = 36\t7 * 6 = 42\t8 * 6 = 48\t9 * 6 = 54\t10 * 6 = 60\t\n",
            "1 * 7 = 7\t2 * 7 = 14\t3 * 7 = 21\t4 * 7 = 28\t5 * 7 = 35\t6 * 7 = 42\t7 * 7 = 49\t8 * 7 = 56\t9 * 7 = 63\t10 * 7 = 70\t\n",
            "1 * 8 = 8\t2 * 8 = 16\t3 * 8 = 24\t4 * 8 = 32\t5 * 8 = 40\t6 * 8 = 48\t7 * 8 = 56\t8 * 8 = 64\t9 * 8 = 72\t10 * 8 = 80\t\n",
            "1 * 9 = 9\t2 * 9 = 18\t3 * 9 = 27\t4 * 9 = 36\t5 * 9 = 45\t6 * 9 = 54\t7 * 9 = 63\t8 * 9 = 72\t9 * 9 = 81\t10 * 9 = 90\t\n",
            "1 * 10 = 10\t2 * 10 = 20\t3 * 10 = 30\t4 * 10 = 40\t5 * 10 = 50\t6 * 10 = 60\t7 * 10 = 70\t8 * 10 = 80\t9 * 10 = 90\t10 * 10 = 100\t\n"
          ],
          "name": "stdout"
        }
      ]
    },
    {
      "cell_type": "markdown",
      "metadata": {
        "id": "OnUMJ8RCD_kR"
      },
      "source": [
        "######Fatorial"
      ]
    },
    {
      "cell_type": "code",
      "metadata": {
        "colab": {
          "base_uri": "https://localhost:8080/"
        },
        "id": "ZsTZP2qclMV8",
        "outputId": "38a65b05-a95e-47e5-85eb-71df4cfc7084"
      },
      "source": [
        "num = 1\r\n",
        "\r\n",
        "while num >= 0:\r\n",
        "  num = int(input(\"Digite um número: \"))\r\n",
        "\r\n",
        "  fatorial = 1\r\n",
        "  while num > 1:\r\n",
        "    fatorial = fatorial * num\r\n",
        "    num -= 1\r\n",
        "\r\n",
        "  if num < 0:\r\n",
        "    print(\"Fim do Programa!!!\")\r\n",
        "  else:\r\n",
        "    print(\"O fatorial é:\", fatorial)\r\n",
        "    print()"
      ],
      "execution_count": null,
      "outputs": [
        {
          "output_type": "stream",
          "text": [
            "Digite um número: 0\n",
            "O fatorial é: 1\n",
            "\n",
            "Digite um número: -1\n",
            "Fim do Programa!!!\n"
          ],
          "name": "stdout"
        }
      ]
    },
    {
      "cell_type": "markdown",
      "metadata": {
        "id": "s13c2hliEBzK"
      },
      "source": [
        "######Fatorial com Função"
      ]
    },
    {
      "cell_type": "code",
      "metadata": {
        "colab": {
          "base_uri": "https://localhost:8080/"
        },
        "id": "drxVyG6vnpbV",
        "outputId": "38a81db9-8345-4166-b658-391a35be0361"
      },
      "source": [
        "def fat(num):\r\n",
        "  fatorial = 1\r\n",
        "  while num > 1:\r\n",
        "    fatorial = fatorial * num\r\n",
        "    num -= 1\r\n",
        "\r\n",
        "  return fatorial\r\n",
        "\r\n",
        "\r\n",
        "num = 1\r\n",
        "while num >= 0:\r\n",
        "  num = int(input(\"Digite um número: \"))\r\n",
        "\r\n",
        "  if num < 0:\r\n",
        "    print(\"Fim do Programa!!!\")\r\n",
        "  else:\r\n",
        "    print(\"O fatorial é:\", fat(num))\r\n",
        "    print()"
      ],
      "execution_count": null,
      "outputs": [
        {
          "output_type": "stream",
          "text": [
            "Digite um número: 10\n",
            "O fatorial é: 3628800\n",
            "\n",
            "Digite um número: 15\n",
            "O fatorial é: 1307674368000\n",
            "\n",
            "Digite um número: -1\n",
            "Fim do Programa!!!\n"
          ],
          "name": "stdout"
        }
      ]
    },
    {
      "cell_type": "markdown",
      "metadata": {
        "id": "RL0vqcixEJ7t"
      },
      "source": [
        "######Decomposição em Fatores Primos"
      ]
    },
    {
      "cell_type": "code",
      "metadata": {
        "colab": {
          "base_uri": "https://localhost:8080/"
        },
        "id": "IM6KJPHioaZI",
        "outputId": "ba602ae8-6ecd-4b75-ec9f-9e289e98cf91"
      },
      "source": [
        "num = int(input(\"Digite um número inteiro maior que 1: \"))\r\n",
        "\r\n",
        "fator = 2\r\n",
        "multiplicidade = 0\r\n",
        "\r\n",
        "while num > 1:\r\n",
        "  while num % fator == 0:\r\n",
        "    multiplicidade += 1\r\n",
        "    num = num / fator\r\n",
        "\r\n",
        "  if multiplicidade > 0:\r\n",
        "    print(\"Fator\", fator, \"multiplicidade =\", multiplicidade)\r\n",
        "\r\n",
        "  fator += 1\r\n",
        "  multiplicidade = 0"
      ],
      "execution_count": null,
      "outputs": [
        {
          "output_type": "stream",
          "text": [
            "Digite um número inteiro maior que 1: 65536\n",
            "Fator 2 multiplicidade = 16\n"
          ],
          "name": "stdout"
        }
      ]
    },
    {
      "cell_type": "markdown",
      "metadata": {
        "id": "n7CXUMa1EGVJ"
      },
      "source": [
        "###Exercícios"
      ]
    },
    {
      "cell_type": "markdown",
      "metadata": {
        "id": "bEb9lUa8EOqu"
      },
      "source": [
        "######Número Primo"
      ]
    },
    {
      "cell_type": "code",
      "metadata": {
        "id": "dD6E5pxprFvD"
      },
      "source": [
        "def éPrimo(num):\r\n",
        "  i = 1\r\n",
        "  cont = 0\r\n",
        "  while i <= num:\r\n",
        "    if num % i == 0:\r\n",
        "      cont += 1\r\n",
        "\r\n",
        "    i += 1    \r\n",
        "\r\n",
        "  if cont == 2:\r\n",
        "    return True\r\n",
        "  else:\r\n",
        "    return False\r\n",
        "\r\n",
        "\r\n",
        "num = 1\r\n",
        "while num >= 0:\r\n",
        "  num = int(input(\"Digite um número: \"))\r\n",
        "\r\n",
        "  print(\"Primo:\", éPrimo(num))\r\n",
        "  print()"
      ],
      "execution_count": null,
      "outputs": []
    },
    {
      "cell_type": "markdown",
      "metadata": {
        "id": "fTE0sChEERZP"
      },
      "source": [
        "######Desenhando uma Caixa"
      ]
    },
    {
      "cell_type": "code",
      "metadata": {
        "colab": {
          "base_uri": "https://localhost:8080/"
        },
        "id": "xzdgDn7Kujk0",
        "outputId": "4e3e9368-1db4-4f3a-e156-65732000806d"
      },
      "source": [
        "coluna = int(input(\"Digite a largura: \"))\r\n",
        "linha = int(input(\"Digite a altura: \"))\r\n",
        "\r\n",
        "indice = coluna \r\n",
        "while linha >= 1:\r\n",
        "  coluna = indice\r\n",
        "  while coluna >= 1:\r\n",
        "    print(\"#\", end = \"\") # o end impede de ir para a próxima linha como outro print, fica na mesma linha\r\n",
        "    coluna -= 1\r\n",
        "  \r\n",
        "  print() # esse print faz as colunas\r\n",
        "  linha -= 1"
      ],
      "execution_count": null,
      "outputs": [
        {
          "output_type": "stream",
          "text": [
            "Digite a largura: 2\n",
            "Digite a altura: 2\n",
            "##\n",
            "##\n"
          ],
          "name": "stdout"
        }
      ]
    },
    {
      "cell_type": "markdown",
      "metadata": {
        "id": "byy3AHMUEUrj"
      },
      "source": [
        "######Caixa sem Preenchimento"
      ]
    },
    {
      "cell_type": "code",
      "metadata": {
        "colab": {
          "base_uri": "https://localhost:8080/"
        },
        "id": "d52o4-660V-L",
        "outputId": "8b6aeccd-54dd-462a-85d1-24f58d9d391a"
      },
      "source": [
        "largura = int(input(\"Digite a largura: \"))\r\n",
        "altura = int(input(\"Digite a altura: \"))\r\n",
        "\r\n",
        "l = 1 \r\n",
        "a = 1 #Primeira linha\r\n",
        "while a <= altura: #Primeira linha\r\n",
        "   print('#' * largura, end = '') #Linha completa\r\n",
        "   print() #Nova linha\r\n",
        "   \r\n",
        "   a = a + 1 #Sai da primeira linha\r\n",
        "   \r\n",
        "   while a > 1 and a < altura: #Começa linha vazada\r\n",
        "      print('#' + ' ' * (largura - 2) + '#') #Linha vazada até a penúltima linha\r\n",
        "      a = a + 1 #Passa pra nova linha. Quando chegar à última linha, sai do while interno e volta ao while externo imprimindo uma linha cheia."
      ],
      "execution_count": null,
      "outputs": [
        {
          "output_type": "stream",
          "text": [
            "digite a largura: 10\n",
            "digite a altura: 3\n",
            "##########\n",
            "#        #\n",
            "##########\n"
          ],
          "name": "stdout"
        }
      ]
    },
    {
      "cell_type": "markdown",
      "metadata": {
        "id": "Ol5WGMy_wLas"
      },
      "source": [
        "# Listas - Arrays / Vetores\r\n",
        "\r\n",
        "---\r\n",
        "\r\n"
      ]
    },
    {
      "cell_type": "markdown",
      "metadata": {
        "id": "Xo-OBMV8CrzQ"
      },
      "source": [
        "###Lista Simples"
      ]
    },
    {
      "cell_type": "code",
      "metadata": {
        "id": "sg4pnHcewPOs"
      },
      "source": [
        "playlist_cantores = [\"Criolo\", \"Dua Lipa\", \"Tim Maia\", \"Ed Sheeran\", \"Brazza\"]\r\n",
        "\r\n",
        "print(playlist_cantores) # mostra o vetor inteiro\r\n",
        "print(playlist_cantores[3]) # localização no vetor\r\n",
        "print(len(playlist_cantores)) # tamanho do vetor\r\n",
        "print(type(playlist_cantores[0])) # tipo de variável na posição 0\r\n",
        "\r\n",
        "playlist_cantores.append(\"Martinho da Vila\") # adiciona uma nova \"casa\" no vetor\r\n",
        "print()\r\n",
        "print(playlist_cantores)\r\n",
        "\r\n",
        "playlist_cantores[2] = \"Seu Jorge\" # substituí o valor\r\n",
        "print()\r\n",
        "print(playlist_cantores)"
      ],
      "execution_count": null,
      "outputs": []
    },
    {
      "cell_type": "markdown",
      "metadata": {
        "id": "MHA6BxfPCur-"
      },
      "source": [
        "###Exemplo"
      ]
    },
    {
      "cell_type": "markdown",
      "metadata": {
        "id": "tMhQ7yIWCyIm"
      },
      "source": [
        "######Ordem Inversa"
      ]
    },
    {
      "cell_type": "code",
      "metadata": {
        "id": "a-PQ-op71qKB"
      },
      "source": [
        "numeros = []\r\n",
        "\r\n",
        "num = 1\r\n",
        "while num != 0:\r\n",
        "  num = int(input(\"Digite um número inteiro terminado em 0: \"))\r\n",
        "  \r\n",
        "  if num % 10 == 0:\r\n",
        "    numeros.append(num)\r\n",
        "\r\n",
        "numeros.reverse()\r\n",
        "numeros.remove(0)\r\n",
        "numeros"
      ],
      "execution_count": null,
      "outputs": []
    },
    {
      "cell_type": "markdown",
      "metadata": {
        "id": "O6ZH7zUV_dqT"
      },
      "source": [
        "###Comando FOR"
      ]
    },
    {
      "cell_type": "code",
      "metadata": {
        "id": "q5-kvGc-7SoV"
      },
      "source": [
        "playlist_cantores = [\"Criolo\", \"Dua Lipa\", \"Tim Maia\", \"Ed Sheeran\", \"Brazza\"]\r\n",
        "\r\n",
        "for cantor in playlist_cantores: # adiciona a variável cantor o valor do vetor e executa o código\r\n",
        "  print(cantor)\r\n",
        "\r\n",
        "print(\"----------\")\r\n",
        "\r\n",
        "for i in range(10): # começa uma contagem até 10 e joga na variável\r\n",
        "  print(i)\r\n",
        "\r\n",
        "print(\"----------\")\r\n",
        "\r\n",
        "for i in range(1, 10): # começa uma contagem a partir do valor inicial até o valor final e joga na variável\r\n",
        "  print(i)\r\n",
        "\r\n",
        "print(\"----------\")\r\n",
        "\r\n",
        "for i in range(0, 10, 2): # começa uma contagem a partir do valor inicial até o valor final, de acordo com a terceira condição e joga na variável\r\n",
        "  print(i)\r\n",
        "\r\n",
        "print(\"----------\")\r\n",
        "\r\n",
        "pares = range(0, 40, 2)\r\n",
        "for i in pares:\r\n",
        "  print(i)"
      ],
      "execution_count": null,
      "outputs": []
    },
    {
      "cell_type": "markdown",
      "metadata": {
        "id": "2LCgDteBC8ZB"
      },
      "source": [
        "###Exemplo"
      ]
    },
    {
      "cell_type": "code",
      "metadata": {
        "colab": {
          "base_uri": "https://localhost:8080/"
        },
        "id": "b_aHHEQ3_g9m",
        "outputId": "661bb4a3-95fc-4f7e-bf45-759a78c43c3b"
      },
      "source": [
        "num = [1, 2, 3, 4, 5, 6, 7, 8, 9, 10]\r\n",
        "\r\n",
        "for i in range(len(num)): # o tamanho do for é igual ao tamanho do vetor -> range(len(primos))\r\n",
        "  num[i] = num[i] * 2\r\n",
        "\r\n",
        "num"
      ],
      "execution_count": null,
      "outputs": [
        {
          "output_type": "execute_result",
          "data": {
            "text/plain": [
              "[2, 4, 6, 8, 10, 12, 14, 16, 18, 20]"
            ]
          },
          "metadata": {
            "tags": []
          },
          "execution_count": 43
        }
      ]
    },
    {
      "cell_type": "markdown",
      "metadata": {
        "id": "LtWvUClwDACz"
      },
      "source": [
        "###Partes de Listas"
      ]
    },
    {
      "cell_type": "code",
      "metadata": {
        "colab": {
          "base_uri": "https://localhost:8080/"
        },
        "id": "JUaJeJRNCj7d",
        "outputId": "3e3c549c-2fa6-454b-f1eb-58355e39e789"
      },
      "source": [
        "num = [1, 2, 3, 4, 5, 6, 7, 8, 9, 10]\r\n",
        "\r\n",
        "print(num[2:5]) # ele vai até uma posição a menos do ultimo valor, a posição 5 é o número 6, mas ele foi até o 5\r\n",
        "\r\n",
        "inicio = num[:3]\r\n",
        "print(inicio) # sem dar o valor inicial, ele começa do começo\r\n",
        "\r\n",
        "final = num[7:]\r\n",
        "print(final) # sem dar o valor final, ele vai até o fim"
      ],
      "execution_count": null,
      "outputs": [
        {
          "output_type": "stream",
          "text": [
            "[3, 4, 5]\n",
            "[1, 2, 3]\n",
            "[8, 9, 10]\n"
          ],
          "name": "stdout"
        }
      ]
    },
    {
      "cell_type": "markdown",
      "metadata": {
        "id": "LMYso78JDD81"
      },
      "source": [
        "###Clonar Listas"
      ]
    },
    {
      "cell_type": "code",
      "metadata": {
        "colab": {
          "base_uri": "https://localhost:8080/"
        },
        "id": "7CRfTHWoEQzA",
        "outputId": "e994bfd3-3db8-43c1-d250-082e648ebb9b"
      },
      "source": [
        "lista1 = [\"Vermelho\", \"Verde\", \"Azul\"]\r\n",
        "print(lista1)\r\n",
        "\r\n",
        "lista2 = lista1\r\n",
        "print(lista2)\r\n",
        "\r\n",
        "lista2[0] = \"Rosa\"\r\n",
        "\r\n",
        "print(lista1)\r\n",
        "print(lista2)\r\n",
        "  # elas mudam juntas, já que as duas se referenciam a mesma lista\r\n",
        "\r\n",
        "print(\"----------\")\r\n",
        "\r\n",
        "lista1 = [\"Vermelho\", \"Verde\", \"Azul\"]\r\n",
        "\r\n",
        "lista2 = lista1[:] # cria um clone\r\n",
        "\r\n",
        "lista2[0] = \"Rosa\"\r\n",
        "\r\n",
        "print(lista1)\r\n",
        "print(lista2)\r\n",
        "  # dessa vez, não mudaram juntas"
      ],
      "execution_count": null,
      "outputs": [
        {
          "output_type": "stream",
          "text": [
            "['Vermelho', 'Verde', 'Azul']\n",
            "['Vermelho', 'Verde', 'Azul']\n",
            "['Rosa', 'Verde', 'Azul']\n",
            "['Rosa', 'Verde', 'Azul']\n",
            "----------\n",
            "['Vermelho', 'Verde', 'Azul']\n",
            "['Rosa', 'Verde', 'Azul']\n"
          ],
          "name": "stdout"
        }
      ]
    },
    {
      "cell_type": "markdown",
      "metadata": {
        "id": "roSoIRMADHe9"
      },
      "source": [
        "###Pertinência de uma Lista"
      ]
    },
    {
      "cell_type": "code",
      "metadata": {
        "colab": {
          "base_uri": "https://localhost:8080/"
        },
        "id": "tjFcVn4EGRBJ",
        "outputId": "56df8adb-3610-42f3-aeba-7b8312d439bf"
      },
      "source": [
        "lista1 = [\"Vermelho\", \"Verde\", \"Azul\"]\r\n",
        "\r\n",
        "print(\"Rosa\" in lista1)\r\n",
        "print(\"Rosa\" in lista2)\r\n",
        "  # checando se o \"Rosa\" está em alguma das listas\r\n",
        "\r\n",
        "print(\"-----------\")\r\n",
        "\r\n",
        "if \"Rosa\" in lista1:\r\n",
        "  print(\"Está\")\r\n",
        "else:\r\n",
        "  print(\"Faltou\")\r\n",
        "\r\n",
        "if \"Vermelho\" in lista1:\r\n",
        "  print(\"Está\")\r\n",
        "else:\r\n",
        "  print(\"Faltou\")"
      ],
      "execution_count": null,
      "outputs": [
        {
          "output_type": "stream",
          "text": [
            "False\n",
            "True\n",
            "-----------\n",
            "Faltou\n",
            "Está\n"
          ],
          "name": "stdout"
        }
      ]
    },
    {
      "cell_type": "markdown",
      "metadata": {
        "id": "RVO7IZADDK2T"
      },
      "source": [
        "###Concatenação"
      ]
    },
    {
      "cell_type": "code",
      "metadata": {
        "colab": {
          "base_uri": "https://localhost:8080/"
        },
        "id": "LWM4XrjDG_ys",
        "outputId": "f0d7cef5-e934-466f-b84a-1ec93e6f525d"
      },
      "source": [
        "print([1, 2] + [3, 4])\r\n",
        "print([\"Fabricio Araujo\"] + [19])\r\n",
        "\r\n",
        "a = [1, 2, 3]\r\n",
        "b = [4, 5, 6]\r\n",
        "print(a + b)\r\n",
        "print(b + a)\r\n",
        "print(a + a + b + b)\r\n",
        "  # concatenação não altera uma lista, somente cria uma amostra nova para que possa ser usada em alguma função\r\n",
        "\r\n",
        "print(\"----------\")\r\n",
        "\r\n",
        "x = [1, 2, 3]\r\n",
        "x.append(\"gato\")\r\n",
        "\r\n",
        "print(x)\r\n",
        "\r\n",
        "y = x + [5]\r\n",
        "print(y)"
      ],
      "execution_count": null,
      "outputs": [
        {
          "output_type": "stream",
          "text": [
            "[1, 2, 3, 4]\n",
            "['Fabricio Araujo', 19]\n",
            "[1, 2, 3, 4, 5, 6]\n",
            "[4, 5, 6, 1, 2, 3]\n",
            "[1, 2, 3, 1, 2, 3, 4, 5, 6, 4, 5, 6]\n",
            "----------\n",
            "[1, 2, 3, 'gato']\n",
            "[1, 2, 3, 'gato', 5]\n"
          ],
          "name": "stdout"
        }
      ]
    },
    {
      "cell_type": "markdown",
      "metadata": {
        "id": "kwINUXiODOdj"
      },
      "source": [
        "###Repetição de Listas"
      ]
    },
    {
      "cell_type": "code",
      "metadata": {
        "colab": {
          "base_uri": "https://localhost:8080/"
        },
        "id": "tghccnzbIIB8",
        "outputId": "1ff9920c-9966-4efc-d946-3d25cef7c69e"
      },
      "source": [
        "a = [1, 2, 3]\r\n",
        "a_triplicado = a * 3 # ele repete a lista 3 vezes\r\n",
        "\r\n",
        "a_triplicado"
      ],
      "execution_count": null,
      "outputs": [
        {
          "output_type": "execute_result",
          "data": {
            "text/plain": [
              "[1, 2, 3, 1, 2, 3, 1, 2, 3]"
            ]
          },
          "metadata": {
            "tags": []
          },
          "execution_count": 76
        }
      ]
    },
    {
      "cell_type": "markdown",
      "metadata": {
        "id": "vdX7tYGpDRtS"
      },
      "source": [
        "###Remoção de Listas"
      ]
    },
    {
      "cell_type": "code",
      "metadata": {
        "colab": {
          "base_uri": "https://localhost:8080/"
        },
        "id": "menYEcyeKT7p",
        "outputId": "455f24c6-7075-4283-8954-1ae5b51b5d91"
      },
      "source": [
        "a = [1, 2, 3, 5, 6, 7, 8, 9, 10]\r\n",
        "\r\n",
        "del a[1] # remove o indice\r\n",
        "print(a)\r\n",
        "\r\n",
        "del a[3:7]\r\n",
        "print(a)\r\n",
        "\r\n",
        "a.remove(10) # também remove\r\n",
        "print(a)"
      ],
      "execution_count": null,
      "outputs": [
        {
          "output_type": "stream",
          "text": [
            "[1, 3, 5, 6, 7, 8, 9, 10]\n",
            "[1, 3, 5, 10]\n",
            "[1, 3, 5]\n"
          ],
          "name": "stdout"
        }
      ]
    },
    {
      "cell_type": "markdown",
      "metadata": {
        "id": "7hX6lLLhDZGB"
      },
      "source": [
        "###Exercícios"
      ]
    },
    {
      "cell_type": "markdown",
      "metadata": {
        "id": "NVhL3WWdDamj"
      },
      "source": [
        "######Remove Repetidos"
      ]
    },
    {
      "cell_type": "code",
      "metadata": {
        "colab": {
          "base_uri": "https://localhost:8080/"
        },
        "id": "G5rykmFINCFp",
        "outputId": "fff269d7-279b-4bf2-f1c1-f2b7ee110e31"
      },
      "source": [
        "def remove_repetidos(lista):\r\n",
        "  lista.sort() # organiza em ordem crescente\r\n",
        "    # sorted(lista)\r\n",
        "\r\n",
        "  lista_nova = []\r\n",
        "\r\n",
        "  for i in lista:\r\n",
        "    if i not in lista_nova:\r\n",
        "      lista_nova.append(i)\r\n",
        "\r\n",
        "  return lista_nova\r\n",
        "\r\n",
        "\r\n",
        "lista = [1, 2, 3, 3, 3, 4]\r\n",
        "print(remove_repetidos(lista))"
      ],
      "execution_count": null,
      "outputs": [
        {
          "output_type": "stream",
          "text": [
            "[1, 2, 3, 4]\n"
          ],
          "name": "stdout"
        }
      ]
    },
    {
      "cell_type": "markdown",
      "metadata": {
        "id": "fp7kKAUNDeH5"
      },
      "source": [
        "######Soma da Lista"
      ]
    },
    {
      "cell_type": "code",
      "metadata": {
        "colab": {
          "base_uri": "https://localhost:8080/"
        },
        "id": "pBJTCTIJWq6S",
        "outputId": "4cb51a35-ae48-4caa-f0af-56a0088463d8"
      },
      "source": [
        "def soma_elementos(lista):\r\n",
        "  soma = 0\r\n",
        "  for i in lista:\r\n",
        "    soma = soma + i\r\n",
        "\r\n",
        "  return soma\r\n",
        "\r\n",
        "\r\n",
        "lista = [2, 2, 3, 3]\r\n",
        "print(soma_elementos(lista))"
      ],
      "execution_count": null,
      "outputs": [
        {
          "output_type": "stream",
          "text": [
            "10\n"
          ],
          "name": "stdout"
        }
      ]
    },
    {
      "cell_type": "markdown",
      "metadata": {
        "id": "qiN-_NhLDjBf"
      },
      "source": [
        "######Maior Elemento"
      ]
    },
    {
      "cell_type": "code",
      "metadata": {
        "colab": {
          "base_uri": "https://localhost:8080/"
        },
        "id": "fo-T5dOTaNwZ",
        "outputId": "0aff6635-fe63-4452-a41e-40706546fb4f"
      },
      "source": [
        "def maior_elemento(lista):\r\n",
        "  maior = 0\r\n",
        "\r\n",
        "  for i in lista:\r\n",
        "    if i > maior:\r\n",
        "      maior = i\r\n",
        "\r\n",
        "  return maior\r\n",
        "\r\n",
        "\r\n",
        "lista = [1, 2, 3, 3, 3, 4, 10, 11, 25, 13, 4, 7]\r\n",
        "print(maior_elemento(lista))"
      ],
      "execution_count": null,
      "outputs": [
        {
          "output_type": "stream",
          "text": [
            "25\n"
          ],
          "name": "stdout"
        }
      ]
    },
    {
      "cell_type": "markdown",
      "metadata": {
        "id": "W0IpX5Jn9cnS"
      },
      "source": [
        "# Objetos na Memória\r\n",
        "\r\n",
        "---\r\n",
        "\r\n"
      ]
    },
    {
      "cell_type": "markdown",
      "metadata": {
        "id": "CDll4eitBsGJ"
      },
      "source": [
        "###Objetos e Referências"
      ]
    },
    {
      "cell_type": "code",
      "metadata": {
        "colab": {
          "base_uri": "https://localhost:8080/"
        },
        "id": "u6J-_OCS9h6h",
        "outputId": "d7b8f890-fb46-4a0f-b91d-e7bca42b5271"
      },
      "source": [
        "a = \"banana\"\r\n",
        "print(a)\r\n",
        "\r\n",
        "b = \"banana\"\r\n",
        "print(b)\r\n",
        "\r\n",
        "c = \"maça\"\r\n",
        "print(c)\r\n",
        "\r\n",
        "print(\"----------\")\r\n",
        "\r\n",
        "print(a is b)\r\n",
        "print(a is c)\r\n",
        "\r\n",
        "print(\"----------\")\r\n",
        "\r\n",
        "lista1 = [10, 20, 30]\r\n",
        "lista2 = [10, 20, 30]\r\n",
        "\r\n",
        "print(lista1 is lista2)\r\n",
        "print(lista1 == lista2)"
      ],
      "execution_count": null,
      "outputs": [
        {
          "output_type": "stream",
          "text": [
            "banana\n",
            "banana\n",
            "maça\n",
            "----------\n",
            "True\n",
            "False\n",
            "----------\n",
            "False\n",
            "False\n"
          ],
          "name": "stdout"
        }
      ]
    },
    {
      "cell_type": "markdown",
      "metadata": {
        "id": "DRS_sMJ9BwOb"
      },
      "source": [
        "###Repetições e Referências"
      ]
    },
    {
      "cell_type": "code",
      "metadata": {
        "colab": {
          "base_uri": "https://localhost:8080/"
        },
        "id": "ZXiAVRae-4KJ",
        "outputId": "cbc4f24d-3361-4685-c7a2-c781b6b4c190"
      },
      "source": [
        "orig_list = [45, 50, 55, 60]\r\n",
        "\r\n",
        "print(orig_list * 3) # a mesma lista com 3 vezes o tamanho\r\n",
        "print([orig_list] * 3) # 3 listas iguais\r\n",
        "\r\n",
        "print(\"----------\")\r\n",
        "\r\n",
        "new_list = [orig_list] * 3\r\n",
        "print(new_list)\r\n",
        "print()\r\n",
        "\r\n",
        "orig_list.append(100)\r\n",
        "print(orig_list)\r\n",
        "print(new_list)\r\n",
        "  # o new_list também muda porque ele se referência nas outras\r\n",
        "  # então, se um muda, os outros mudam em seguida"
      ],
      "execution_count": null,
      "outputs": [
        {
          "output_type": "stream",
          "text": [
            "[45, 50, 55, 60, 45, 50, 55, 60, 45, 50, 55, 60]\n",
            "[[45, 50, 55, 60], [45, 50, 55, 60], [45, 50, 55, 60]]\n",
            "----------\n",
            "[[45, 50, 55, 60], [45, 50, 55, 60], [45, 50, 55, 60]]\n",
            "\n",
            "[45, 50, 55, 60, 100]\n",
            "[[45, 50, 55, 60, 100], [45, 50, 55, 60, 100], [45, 50, 55, 60, 100]]\n"
          ],
          "name": "stdout"
        }
      ]
    },
    {
      "cell_type": "markdown",
      "metadata": {
        "id": "ja5o3L0YB0lJ"
      },
      "source": [
        "###Exemplo"
      ]
    },
    {
      "cell_type": "markdown",
      "metadata": {
        "id": "9g0GKEOVB4MX"
      },
      "source": [
        "######Temperaturas em um Mês"
      ]
    },
    {
      "cell_type": "code",
      "metadata": {
        "colab": {
          "base_uri": "https://localhost:8080/"
        },
        "id": "PuxSrpBRA8eL",
        "outputId": "a7366230-5451-43f7-ce4d-0fbfca458ad1"
      },
      "source": [
        "def min_max(temperatura):\r\n",
        "  print(\"A menor temperatura do mês foi:\", minima(temperatura), \"Celsius\")\r\n",
        "  print(\"A maior temperatura do mês foi:\", maxima(temperatura), \"Celsius\")\r\n",
        "\r\n",
        "def minima(temps):\r\n",
        "  menor = temps[0]\r\n",
        "  i = 0\r\n",
        "\r\n",
        "  while i < len(temps):\r\n",
        "    if temps[i] < menor:\r\n",
        "      menor = temps[i]\r\n",
        "\r\n",
        "    i += 1\r\n",
        "\r\n",
        "  return menor\r\n",
        "\r\n",
        "def maxima(temps):\r\n",
        "  maior = 0\r\n",
        "  i = 0\r\n",
        "\r\n",
        "  while i < len(temps):\r\n",
        "    if temps[i] > maior:\r\n",
        "      maior = temps[i]\r\n",
        "\r\n",
        "    i += 1\r\n",
        "\r\n",
        "  return maior\r\n",
        "\r\n",
        "# *** Testes de Erros ***\r\n",
        "def teste_pontual_minima(temp, valor_esperado):\r\n",
        "  valor_calculado = minima(temp)\r\n",
        "  if valor_calculado != valor_esperado:\r\n",
        "    print(\"Valor errado para array\", temp)\r\n",
        "    print(\"Valor esperado:\", valor_esperado, \"\\tValor calculado:\", valor_calculado)\r\n",
        "\r\n",
        "def teste_pontual_maxima(temp, valor_esperado):\r\n",
        "  valor_calculado = maxima(temp)\r\n",
        "  if valor_calculado != valor_esperado:\r\n",
        "    print(\"Valor errado para array\", temp)\r\n",
        "    print(\"Valor esperado:\", valor_esperado, \"\\tValor calculado:\", valor_calculado)\r\n",
        "\r\n",
        "def testa_minima():\r\n",
        "  print(\"Iniciando os testes...\")\r\n",
        "\r\n",
        "  teste_pontual_minima([0], 0)\r\n",
        "  teste_pontual_minima([0, 0, 0], 0)\r\n",
        "  teste_pontual_minima([0, 1, 2, 3], 0)\r\n",
        "  teste_pontual_minima([26, 19, 15, 27, 32, 33, 20], 15)\r\n",
        "  teste_pontual_minima([-3, -12, 15, 0, 20], -12)\r\n",
        "  \r\n",
        "  print(\"\\nFinalizando os testes.\")\r\n",
        "\r\n",
        "def testa_maxima():\r\n",
        "  print(\"Iniciando os testes...\")\r\n",
        "\r\n",
        "  teste_pontual_maxima([0], 0)\r\n",
        "  teste_pontual_maxima([0, 1, 0], 1)\r\n",
        "  teste_pontual_maxima([0, 1, 2, 3], 3)\r\n",
        "  teste_pontual_maxima([26, 19, 15, 27, 32, 33, 20], 33)\r\n",
        "  teste_pontual_maxima([-3, -12, 15, 0, 20], 20)\r\n",
        "  \r\n",
        "  print(\"\\nFinalizando os testes.\")\r\n",
        "\r\n",
        "\r\n",
        "testa_minima()\r\n",
        "testa_maxima()\r\n",
        "print()\r\n",
        "\r\n",
        "min_max([22, 21, 11, 21, 1, 22, 14, 17, 15])"
      ],
      "execution_count": null,
      "outputs": [
        {
          "output_type": "stream",
          "text": [
            "Iniciando os testes...\n",
            "\n",
            "Finalizando os testes.\n",
            "Iniciando os testes...\n",
            "\n",
            "Finalizando os testes.\n",
            "\n",
            "A menor temperatura do mês foi: 1 Celsius\n",
            "A maior temperatura do mês foi: 22 Celsius\n"
          ],
          "name": "stdout"
        }
      ]
    },
    {
      "cell_type": "markdown",
      "metadata": {
        "id": "VA7trNjKCDiT"
      },
      "source": [
        "#Exercício Final\r\n",
        "\r\n",
        "---"
      ]
    },
    {
      "cell_type": "markdown",
      "metadata": {
        "id": "AD82YFgWEw5j"
      },
      "source": [
        "###COH-PIAH"
      ]
    },
    {
      "cell_type": "code",
      "metadata": {
        "id": "0ZlpHQS6WU0a"
      },
      "source": [
        "import re\r\n",
        "\r\n",
        "def le_assinatura():\r\n",
        "    '''A funcao le os valores dos tracos linguisticos do modelo e devolve uma assinatura a ser comparada com os textos fornecidos'''\r\n",
        "    print(\"Bem-vindo ao detector automático de COH-PIAH.\\n\")\r\n",
        "\r\n",
        "    tamMedPalavra = float(input(\"Entre o tamanho medio de palavra: \"))\r\n",
        "    typeToken = float(input(\"Entre a relação Type-Token: \"))\r\n",
        "    hapaxLegomana = float(input(\"Entre a Razão Hapax Legomana: \"))\r\n",
        "    tamMedSentenca = float(input(\"Entre o tamanho médio de sentença: \"))\r\n",
        "    comMedSentenca = float(input(\"Entre a complexidade média da sentença: \"))\r\n",
        "    tamMedFrase = float(input(\"Entre o tamanho medio de frase: \"))\r\n",
        "\r\n",
        "    print()\r\n",
        "\r\n",
        "    return [tamMedPalavra, typeToken, hapaxLegomana, tamMedSentenca, comMedSentenca, tamMedFrase]\r\n",
        "\r\n",
        "def le_textos():\r\n",
        "    i = 1\r\n",
        "    textos = []\r\n",
        "    texto = input(\"Digite o texto \" + str(i) +\" (aperte enter para sair):\")\r\n",
        "    print()\r\n",
        "    while texto:\r\n",
        "        textos.append(texto)\r\n",
        "        i += 1\r\n",
        "        texto = input(\"Digite o texto \" + str(i) +\" (aperte enter para sair):\")\r\n",
        "        print()\r\n",
        "\r\n",
        "    return textos\r\n",
        "\r\n",
        "def separa_sentencas(texto):\r\n",
        "    '''A funcao recebe um texto e devolve uma lista das sentencas dentro do texto'''\r\n",
        "    sentencas = re.split(r'[.!?]+', texto)\r\n",
        "    if sentencas[-1] == '':\r\n",
        "        del sentencas[-1]\r\n",
        "    return sentencas\r\n",
        "\r\n",
        "def separa_frases(sentenca):\r\n",
        "    '''A funcao recebe uma sentenca e devolve uma lista das frases dentro da sentenca'''\r\n",
        "    return re.split(r'[,:;]+', sentenca)\r\n",
        "\r\n",
        "def separa_palavras(frase):\r\n",
        "    '''A funcao recebe uma frase e devolve uma lista das palavras dentro da frase'''\r\n",
        "    return frase.split()\r\n",
        "\r\n",
        "def n_palavras_unicas(lista_palavras):\r\n",
        "    '''Essa funcao recebe uma lista de palavras e devolve o numero de palavras que aparecem uma unica vez'''\r\n",
        "    freq = dict()\r\n",
        "    unicas = 0\r\n",
        "    for palavra in lista_palavras:\r\n",
        "        p = palavra.lower()\r\n",
        "        if p in freq:\r\n",
        "            if freq[p] == 1:\r\n",
        "                unicas -= 1\r\n",
        "            freq[p] += 1\r\n",
        "        else:\r\n",
        "            freq[p] = 1\r\n",
        "            unicas += 1\r\n",
        "\r\n",
        "    return unicas\r\n",
        "\r\n",
        "def n_palavras_diferentes(lista_palavras):\r\n",
        "    '''Essa funcao recebe uma lista de palavras e devolve o numero de palavras diferentes utilizadas'''\r\n",
        "    freq = dict()\r\n",
        "    for palavra in lista_palavras:\r\n",
        "        p = palavra.lower()\r\n",
        "        if p in freq:\r\n",
        "            freq[p] += 1\r\n",
        "        else:\r\n",
        "            freq[p] = 1\r\n",
        "\r\n",
        "    return len(freq)\r\n",
        "\r\n",
        "def compara_assinatura(as_a, as_b):    \r\n",
        "    somatorio = 0\r\n",
        "    for i in range(len(as_a)):\r\n",
        "        somatorio += abs(as_a[i] - as_b[i])\r\n",
        "\r\n",
        "    return somatorio / 6\r\n",
        "        \r\n",
        "\r\n",
        "def calcula_assinatura(texto):    \r\n",
        "    sentencas = separa_sentencas(texto)\r\n",
        "    num_sentencas = 0\r\n",
        "    soma_car_sentencas = 0\r\n",
        "\r\n",
        "    frases = []\r\n",
        "    for i in range(len(sentencas)):\r\n",
        "        frase_aux = separa_frases(sentencas[i])\r\n",
        "        frases.append(frase_aux)\r\n",
        "        num_sentencas += 1\r\n",
        "        soma_car_sentencas = soma_car_sentencas + len(sentencas[i])\r\n",
        "\r\n",
        "    palavras = []\r\n",
        "    num_frases = 0\r\n",
        "    soma_car_frases = 0\r\n",
        "    for linha in range(len(frases)):\r\n",
        "        for coluna in range(len(frases[linha])):\r\n",
        "            palavras_aux = separa_palavras(frases[linha][coluna])\r\n",
        "            palavras.append(palavras_aux)\r\n",
        "            num_frases += 1\r\n",
        "            soma_car_frases += len(frases[linha][coluna])\r\n",
        "\r\n",
        "    mtrx_para_lista = []\r\n",
        "    #COLOCA O QUE ESTÁ NA EM MATRIZ PARA UMA LISTA\r\n",
        "    for linha in range(len(palavras)):\r\n",
        "        for coluna in range(len(palavras[linha])):\r\n",
        "            mtrx_para_lista.append(palavras[linha][coluna])\r\n",
        "    palavras = mtrx_para_lista[:]\r\n",
        "\r\n",
        "    total_letras = 0\r\n",
        "    num_tot_palavras = len(palavras)\r\n",
        "    #CALCULA A QUANTIDADE DE LETRAS\r\n",
        "    for lin in range(len(palavras)):\r\n",
        "        for col in range(len(palavras[lin])):\r\n",
        "            total_letras = total_letras + len(str(palavras[lin][col]))\r\n",
        "    \r\n",
        "    tamMedPalavra = total_letras / num_tot_palavras\r\n",
        "    typeToken = n_palavras_diferentes(palavras) / num_tot_palavras\r\n",
        "    hapaxLegomana = n_palavras_unicas(palavras) / num_tot_palavras\r\n",
        "    tamMedSentenca = soma_car_sentencas / num_sentencas\r\n",
        "    comMedSentenca = num_frases / num_sentencas\r\n",
        "    tamMedFrase = soma_car_frases / num_frases\r\n",
        "    \r\n",
        "    return [tamMedPalavra, typeToken, hapaxLegomana, tamMedSentenca, comMedSentenca, tamMedFrase]\r\n",
        "\r\n",
        "\r\n",
        "\r\n",
        "def avalia_textos(textos, assinaturaMain):\r\n",
        "    '''IMPLEMENTAR. Essa funcao recebe uma lista de textos e deve devolver o numero (1 a n) do texto com maior probabilidade de ter sido infectado por COH-PIAH.'''\r\n",
        "\r\n",
        "    assinaturas = []\r\n",
        "    for i in textos:\r\n",
        "        assinaturas.append(calcula_assinatura(i))\r\n",
        "\r\n",
        "    similaridade = []\r\n",
        "    for i in assinaturas:\r\n",
        "        similaridade.append(compara_assinatura(assinaturaMain, i))\r\n",
        "\r\n",
        "    maior = similaridade[0]\r\n",
        "    posicao = 0\r\n",
        "    for i in range(len(similaridade)):        \r\n",
        "        if similaridade[i] > maior:\r\n",
        "            maior = similaridade[i]\r\n",
        "            posicao = i\r\n",
        "\r\n",
        "    return posicao\r\n",
        "\r\n",
        "'''Minhas funções'''\r\n",
        "def main():\r\n",
        "    assinaturaMain = le_assinatura()\r\n",
        "    textos = le_textos()\r\n",
        "    \r\n",
        "    return  print(\"O autor do texto \" , avalia_textos(textos, assinaturaMain), \" está infectado com COH-PIAH\")\r\n",
        "\r\n"
      ],
      "execution_count": null,
      "outputs": []
    }
  ]
}
